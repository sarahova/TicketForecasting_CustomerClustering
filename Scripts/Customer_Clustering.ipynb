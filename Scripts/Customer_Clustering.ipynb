{
 "cells": [
  {
   "cell_type": "code",
   "execution_count": 1,
   "metadata": {},
   "outputs": [],
   "source": [
    "import pandas as pd\n",
    "import numpy as np\n",
    "import datetime as dt\n",
    "%matplotlib inline\n",
    "import matplotlib.pyplot as plt\n",
    "import seaborn as sns\n",
    "\n",
    "from sklearn.cluster import KMeans\n",
    "# import sys\n",
    "from sklearn import preprocessing as p\n",
    "import warnings; warnings.simplefilter('ignore')\n",
    "from tqdm import tqdm_notebook"
   ]
  },
  {
   "cell_type": "code",
   "execution_count": 2,
   "metadata": {},
   "outputs": [],
   "source": [
    "#functions required to run kmeans algorithim on data\n",
    "\n",
    "#Perform elbow method to find optimal value for K\n",
    "#Define Kmeans fit\n",
    "def get_kmeans_score(data, center):\n",
    "    '''\n",
    "    returns the kmeans score regarding SSE (average distance to centroid) for points to centers\n",
    "    INPUT:\n",
    "        data - the dataset you want to fit kmeans to\n",
    "        center - the number of centers you want (the k value)\n",
    "    OUTPUT:\n",
    "        score - the SSE score for the kmeans model fit to the data\n",
    "    '''\n",
    "    #instantiate kmeans\n",
    "    kmeans = KMeans(n_clusters=center)\n",
    "\n",
    "    # Then fit the model to your data using the fit method\n",
    "    model = kmeans.fit(data)\n",
    "    \n",
    "    # Obtain a score related to the model fit\n",
    "    score = np.abs(model.score(data))\n",
    "    \n",
    "    return score\n",
    "\n",
    "#function for ordering cluster numbers\n",
    "def order_cluster(cluster_field_name, target_field_name,df,ascending):\n",
    "    new_cluster_field_name = 'new_' + cluster_field_name\n",
    "    df_new = df.groupby(cluster_field_name)[target_field_name].mean().reset_index()\n",
    "    df_new = df_new.sort_values(by=target_field_name,ascending=ascending).reset_index(drop=True)\n",
    "    df_new['index'] = df_new.index\n",
    "    df_final = pd.merge(df,df_new[[cluster_field_name,'index']], on=cluster_field_name)\n",
    "    df_final = df_final.drop([cluster_field_name],axis=1)\n",
    "    df_final = df_final.rename(columns={\"index\":cluster_field_name})\n",
    "    return df_final"
   ]
  },
  {
   "cell_type": "code",
   "execution_count": 14,
   "metadata": {},
   "outputs": [],
   "source": [
    "#import data\n",
    "all_data=pd.read_csv('./Data_Output/all_data.csv')"
   ]
  },
  {
   "cell_type": "code",
   "execution_count": 15,
   "metadata": {},
   "outputs": [],
   "source": [
    "#subset Single Game Buyers\n",
    "all_data_singleTicket=all_data[all_data['ticket_type']=='Single Games']"
   ]
  },
  {
   "cell_type": "code",
   "execution_count": 16,
   "metadata": {},
   "outputs": [
    {
     "data": {
      "text/plain": [
       "(2031023, 37)"
      ]
     },
     "execution_count": 16,
     "metadata": {},
     "output_type": "execute_result"
    }
   ],
   "source": [
    "all_data_singleTicket.shape"
   ]
  },
  {
   "cell_type": "code",
   "execution_count": 17,
   "metadata": {},
   "outputs": [],
   "source": [
    "#convert game_date and purchase_date to datetime objects\n",
    "all_data_singleTicket['game_date']=pd.to_datetime(all_data_singleTicket['game_date']).dt.date\n",
    "all_data_singleTicket['purchase_date']=pd.to_datetime(all_data_singleTicket['purchase_date']).dt.date"
   ]
  },
  {
   "cell_type": "code",
   "execution_count": 18,
   "metadata": {},
   "outputs": [],
   "source": [
    "#get a column for delta between game_date and purchase_date\n",
    "all_data_singleTicket['purchase_date_delta']=all_data_singleTicket['game_date']-all_data_singleTicket['purchase_date']"
   ]
  },
  {
   "cell_type": "code",
   "execution_count": 19,
   "metadata": {},
   "outputs": [],
   "source": [
    "all_data_singleTicket['purchase_date_delta'] = all_data_singleTicket['purchase_date_delta'].dt.days.astype('int')"
   ]
  },
  {
   "cell_type": "code",
   "execution_count": 20,
   "metadata": {},
   "outputs": [
    {
     "data": {
      "text/html": [
       "<div>\n",
       "<style scoped>\n",
       "    .dataframe tbody tr th:only-of-type {\n",
       "        vertical-align: middle;\n",
       "    }\n",
       "\n",
       "    .dataframe tbody tr th {\n",
       "        vertical-align: top;\n",
       "    }\n",
       "\n",
       "    .dataframe thead th {\n",
       "        text-align: right;\n",
       "    }\n",
       "</style>\n",
       "<table border=\"1\" class=\"dataframe\">\n",
       "  <thead>\n",
       "    <tr style=\"text-align: right;\">\n",
       "      <th></th>\n",
       "      <th>acct_id</th>\n",
       "      <th>last_game_attended</th>\n",
       "    </tr>\n",
       "  </thead>\n",
       "  <tbody>\n",
       "    <tr>\n",
       "      <th>351029</th>\n",
       "      <td>20052733.0</td>\n",
       "      <td>2019-08-31</td>\n",
       "    </tr>\n",
       "    <tr>\n",
       "      <th>351030</th>\n",
       "      <td>20052760.0</td>\n",
       "      <td>2019-08-31</td>\n",
       "    </tr>\n",
       "    <tr>\n",
       "      <th>351031</th>\n",
       "      <td>20052853.0</td>\n",
       "      <td>2019-08-31</td>\n",
       "    </tr>\n",
       "    <tr>\n",
       "      <th>351032</th>\n",
       "      <td>20052906.0</td>\n",
       "      <td>2019-08-31</td>\n",
       "    </tr>\n",
       "    <tr>\n",
       "      <th>351033</th>\n",
       "      <td>20053106.0</td>\n",
       "      <td>2019-08-31</td>\n",
       "    </tr>\n",
       "  </tbody>\n",
       "</table>\n",
       "</div>"
      ],
      "text/plain": [
       "           acct_id last_game_attended\n",
       "351029  20052733.0         2019-08-31\n",
       "351030  20052760.0         2019-08-31\n",
       "351031  20052853.0         2019-08-31\n",
       "351032  20052906.0         2019-08-31\n",
       "351033  20053106.0         2019-08-31"
      ]
     },
     "execution_count": 20,
     "metadata": {},
     "output_type": "execute_result"
    }
   ],
   "source": [
    "last_game_attended=all_data_singleTicket[['ticket_scanned', 'game_date', 'acct_id']][all_data_singleTicket['ticket_scanned']==1]\n",
    "\n",
    "#group by acct_id and get the last date attended by each customer\n",
    "agg_dict={'game_date': np.max}\n",
    "\n",
    "column_names={'game_date': 'last_game_attended'}\n",
    "\n",
    "last_game_attended=last_game_attended.groupby(['acct_id']).agg(agg_dict).rename(columns=column_names)\n",
    "last_game_attended.reset_index(drop=False, inplace=True)\n",
    "last_game_attended.tail()"
   ]
  },
  {
   "cell_type": "code",
   "execution_count": 21,
   "metadata": {},
   "outputs": [
    {
     "name": "stdout",
     "output_type": "stream",
     "text": [
      "(2031023, 37)\n",
      "(351034, 2)\n",
      "(2031023, 38)\n"
     ]
    }
   ],
   "source": [
    "print(all_data_singleTicket.shape)\n",
    "print(last_game_attended.shape)\n",
    "\n",
    "all_data_singleTicket=all_data_singleTicket.merge(last_game_attended, on='acct_id', how='left')\n",
    "print(all_data_singleTicket.shape)"
   ]
  },
  {
   "cell_type": "code",
   "execution_count": 23,
   "metadata": {},
   "outputs": [],
   "source": [
    "#group by acct_id and determine number of tickets purchased for each acct_id and their latest purchased date\n",
    "agg_dict={'last_game_attended': np.max,\n",
    "          'ticket_type': np.size}\n",
    "\n",
    "column_names={'ticket_type': 'total_tickets_bought'}\n",
    "\n",
    "df_grouped=all_data_singleTicket.groupby(['acct_id']).agg(agg_dict).rename(columns=column_names)\n"
   ]
  },
  {
   "cell_type": "code",
   "execution_count": 26,
   "metadata": {},
   "outputs": [],
   "source": [
    "#if an acct_id has purchased a ticket but never attended (scanned ticket) a game, they have null entries\n",
    "#I fill null entries with a day before the earliest game in the dateset (04/11/2017) (time delta of 872 days) \n",
    "#to ensure that they receive the worst recency score relative to the other customers in the dataset who have \n",
    "#attended more recently\n",
    "df_grouped['last_game_attended']=df_grouped['last_game_attended'].fillna(dt.date(2017, 4, 10))"
   ]
  },
  {
   "cell_type": "code",
   "execution_count": 27,
   "metadata": {},
   "outputs": [],
   "source": [
    "#create another dataframe grouped by section_desc (100, 200, 500) and acct_id, and determine how many 100, 200, and 500 level tickets each acct_id purchased\n",
    "df_grouped2=all_data_singleTicket.groupby(['acct_id', 'section_desc']).agg({'ticket_type':np.size}).rename(columns={'ticket_type':'total_tickets_bought'}).unstack().fillna(0)\n"
   ]
  },
  {
   "cell_type": "code",
   "execution_count": 28,
   "metadata": {},
   "outputs": [],
   "source": [
    "#remove acct_id=0 and -1 (as they are not real account ids)\n",
    "df_grouped=df_grouped[(df_grouped.index!=-1) & (df_grouped.index!=0)]\n",
    "df_grouped2=df_grouped2[(df_grouped2.index!=-1) & (df_grouped2.index!=0)]"
   ]
  },
  {
   "cell_type": "code",
   "execution_count": 29,
   "metadata": {},
   "outputs": [],
   "source": [
    "#Calculate Recency = the time delta between the last date on the dataframe (Aug 31, 2019) - the last date the given acct_id went to a game\n",
    "df_grouped['Recency']=df_grouped['last_game_attended'].max()-df_grouped['last_game_attended']"
   ]
  },
  {
   "cell_type": "code",
   "execution_count": 30,
   "metadata": {},
   "outputs": [],
   "source": [
    "#Using following prices for 100, 200, 500 level site:\n",
    "#500 level=$19\n",
    "#200 level=$43\n",
    "#100 level=$65\n",
    "\n",
    "#Calculate Monetary for each acct_id by multiplying the prices above by how many tickets of each section a given acct_id purchased\n",
    "df_grouped2['Monetary']=df_grouped2['total_tickets_bought'][500]*19+df_grouped2['total_tickets_bought'][200]*43+df_grouped2['total_tickets_bought'][100]*65\n",
    "df_M=df_grouped2['Monetary']"
   ]
  },
  {
   "cell_type": "code",
   "execution_count": 31,
   "metadata": {},
   "outputs": [],
   "source": [
    "#Join dataframes to get single dataframe for RFM for each acct_id\n",
    "df_RFM=df_grouped.join(df_M, how='outer')\n",
    "del df_RFM['last_game_attended']"
   ]
  },
  {
   "cell_type": "code",
   "execution_count": 32,
   "metadata": {},
   "outputs": [],
   "source": [
    "#rename column and display\n",
    "df_RFM.rename(columns={'total_tickets_bought': 'Frequency'}, inplace=True)\n",
    "#convert Recency to int\n",
    "df_RFM['Recency'] = df_RFM['Recency'].dt.days.astype('int')\n",
    "#remove acct_id as index, move to df\n",
    "df_RFM.reset_index(drop=False, inplace=True)"
   ]
  },
  {
   "cell_type": "code",
   "execution_count": 33,
   "metadata": {},
   "outputs": [
    {
     "data": {
      "text/html": [
       "<div>\n",
       "<style scoped>\n",
       "    .dataframe tbody tr th:only-of-type {\n",
       "        vertical-align: middle;\n",
       "    }\n",
       "\n",
       "    .dataframe tbody tr th {\n",
       "        vertical-align: top;\n",
       "    }\n",
       "\n",
       "    .dataframe thead th {\n",
       "        text-align: right;\n",
       "    }\n",
       "</style>\n",
       "<table border=\"1\" class=\"dataframe\">\n",
       "  <thead>\n",
       "    <tr style=\"text-align: right;\">\n",
       "      <th></th>\n",
       "      <th>acct_id</th>\n",
       "      <th>Frequency</th>\n",
       "      <th>Recency</th>\n",
       "      <th>Monetary</th>\n",
       "    </tr>\n",
       "  </thead>\n",
       "  <tbody>\n",
       "    <tr>\n",
       "      <th>0</th>\n",
       "      <td>2.0</td>\n",
       "      <td>10</td>\n",
       "      <td>873</td>\n",
       "      <td>536.0</td>\n",
       "    </tr>\n",
       "    <tr>\n",
       "      <th>1</th>\n",
       "      <td>24.0</td>\n",
       "      <td>3</td>\n",
       "      <td>873</td>\n",
       "      <td>195.0</td>\n",
       "    </tr>\n",
       "    <tr>\n",
       "      <th>2</th>\n",
       "      <td>57.0</td>\n",
       "      <td>4</td>\n",
       "      <td>873</td>\n",
       "      <td>260.0</td>\n",
       "    </tr>\n",
       "    <tr>\n",
       "      <th>3</th>\n",
       "      <td>75.0</td>\n",
       "      <td>21</td>\n",
       "      <td>23</td>\n",
       "      <td>1365.0</td>\n",
       "    </tr>\n",
       "    <tr>\n",
       "      <th>4</th>\n",
       "      <td>82.0</td>\n",
       "      <td>3</td>\n",
       "      <td>784</td>\n",
       "      <td>195.0</td>\n",
       "    </tr>\n",
       "  </tbody>\n",
       "</table>\n",
       "</div>"
      ],
      "text/plain": [
       "   acct_id  Frequency  Recency  Monetary\n",
       "0      2.0         10      873     536.0\n",
       "1     24.0          3      873     195.0\n",
       "2     57.0          4      873     260.0\n",
       "3     75.0         21       23    1365.0\n",
       "4     82.0          3      784     195.0"
      ]
     },
     "execution_count": 33,
     "metadata": {},
     "output_type": "execute_result"
    }
   ],
   "source": [
    "df_RFM.head()"
   ]
  },
  {
   "cell_type": "markdown",
   "metadata": {},
   "source": [
    "# Recency"
   ]
  },
  {
   "cell_type": "code",
   "execution_count": 34,
   "metadata": {},
   "outputs": [
    {
     "data": {
      "text/plain": [
       "Text(0, 0.5, 'Number of Tickets Purchased')"
      ]
     },
     "execution_count": 34,
     "metadata": {},
     "output_type": "execute_result"
    },
    {
     "data": {
      "image/png": "[encoded data removed]",
      "text/plain": [
       "<Figure size 1080x504 with 1 Axes>"
      ]
     },
     "metadata": {
      "needs_background": "light"
     },
     "output_type": "display_data"
    }
   ],
   "source": [
    "plt.figure(figsize=(15,7))\n",
    "plt.hist(df_RFM['Recency'], bins=20)\n",
    "plt.xlabel('Recency', size=15)\n",
    "plt.ylabel('Number of Tickets Purchased')"
   ]
  },
  {
   "cell_type": "code",
   "execution_count": 35,
   "metadata": {},
   "outputs": [
    {
     "data": {
      "image/png": "[encoded data removed]",
      "text/plain": [
       "<Figure size 432x288 with 1 Axes>"
      ]
     },
     "metadata": {
      "needs_background": "light"
     },
     "output_type": "display_data"
    }
   ],
   "source": [
    "# test k values between 1 and 10\n",
    "temp = []\n",
    "cluster_numbers = list(range(1,11))\n",
    "\n",
    "for center in cluster_numbers:\n",
    "    temp.append(get_kmeans_score(df_RFM[['Recency']], center))\n",
    "    \n",
    "plt.plot(cluster_numbers, temp, linestyle='--', marker='o', color='b');\n",
    "plt.xlabel('K');\n",
    "plt.ylabel('SSE');\n",
    "plt.title('KMeans Score vs. K - Recency');"
   ]
  },
  {
   "cell_type": "code",
   "execution_count": 36,
   "metadata": {},
   "outputs": [],
   "source": [
    "#build 4 clusters for recency and add it to dataframe\n",
    "kmeans = KMeans(n_clusters=3)\n",
    "kmeans.fit(df_RFM[['Recency']])\n",
    "df_RFM['RecencyScore'] = kmeans.predict(df_RFM[['Recency']])\n",
    "\n",
    "df_RFM = order_cluster('RecencyScore', 'Recency',df_RFM,False)"
   ]
  },
  {
   "cell_type": "code",
   "execution_count": 37,
   "metadata": {},
   "outputs": [
    {
     "data": {
      "text/html": [
       "<div>\n",
       "<style scoped>\n",
       "    .dataframe tbody tr th:only-of-type {\n",
       "        vertical-align: middle;\n",
       "    }\n",
       "\n",
       "    .dataframe tbody tr th {\n",
       "        vertical-align: top;\n",
       "    }\n",
       "\n",
       "    .dataframe thead th {\n",
       "        text-align: right;\n",
       "    }\n",
       "</style>\n",
       "<table border=\"1\" class=\"dataframe\">\n",
       "  <thead>\n",
       "    <tr style=\"text-align: right;\">\n",
       "      <th></th>\n",
       "      <th>Num_Customers</th>\n",
       "      <th>Mean Recency</th>\n",
       "    </tr>\n",
       "    <tr>\n",
       "      <th>RecencyScore</th>\n",
       "      <th></th>\n",
       "      <th></th>\n",
       "    </tr>\n",
       "  </thead>\n",
       "  <tbody>\n",
       "    <tr>\n",
       "      <th>0</th>\n",
       "      <td>105273.0</td>\n",
       "      <td>799.300789</td>\n",
       "    </tr>\n",
       "    <tr>\n",
       "      <th>1</th>\n",
       "      <td>130032.0</td>\n",
       "      <td>432.630499</td>\n",
       "    </tr>\n",
       "    <tr>\n",
       "      <th>2</th>\n",
       "      <td>131452.0</td>\n",
       "      <td>70.648275</td>\n",
       "    </tr>\n",
       "  </tbody>\n",
       "</table>\n",
       "</div>"
      ],
      "text/plain": [
       "              Num_Customers  Mean Recency\n",
       "RecencyScore                             \n",
       "0                  105273.0    799.300789\n",
       "1                  130032.0    432.630499\n",
       "2                  131452.0     70.648275"
      ]
     },
     "execution_count": 37,
     "metadata": {},
     "output_type": "execute_result"
    }
   ],
   "source": [
    "test=df_RFM.groupby('RecencyScore').agg({'acct_id': np.size,\n",
    "                                        'Recency':np.mean}).rename(columns={'acct_id': 'Num_Customers',\n",
    "                                                                            'Recency': 'Mean Recency'})\n",
    "test"
   ]
  },
  {
   "cell_type": "code",
   "execution_count": 38,
   "metadata": {},
   "outputs": [
    {
     "data": {
      "image/png": "[encoded data removed]",
      "text/plain": [
       "<Figure size 1080x504 with 1 Axes>"
      ]
     },
     "metadata": {
      "needs_background": "light"
     },
     "output_type": "display_data"
    }
   ],
   "source": [
    "x_multi = [df_RFM[df_RFM['RecencyScore']==i]['Recency'] for i in [0,1,2]]\n",
    "plt.figure(figsize=(15,7))\n",
    "\n",
    "plt.hist(x_multi, bins=20)\n",
    "plt.xlabel('Recency', size=15)\n",
    "plt.ylabel('Number of Tickets Purchased')\n",
    "plt.show()\n",
    "#colored by recency cluster label"
   ]
  },
  {
   "cell_type": "markdown",
   "metadata": {},
   "source": [
    "# Frequency"
   ]
  },
  {
   "cell_type": "code",
   "execution_count": 39,
   "metadata": {},
   "outputs": [
    {
     "data": {
      "text/plain": [
       "count    366757.000000\n",
       "mean          4.530242\n",
       "std          20.125149\n",
       "min           1.000000\n",
       "25%           2.000000\n",
       "50%           3.000000\n",
       "75%           5.000000\n",
       "max       10690.000000\n",
       "Name: Frequency, dtype: float64"
      ]
     },
     "execution_count": 39,
     "metadata": {},
     "output_type": "execute_result"
    }
   ],
   "source": [
    "df_RFM['Frequency'].describe()"
   ]
  },
  {
   "cell_type": "code",
   "execution_count": 40,
   "metadata": {},
   "outputs": [],
   "source": [
    "# fig, ax = plt.subplots(figsize=(15,7))\n",
    "# x = df_RFM['Frequency']\n",
    "# binwidth = 10\n",
    "# ax.hist(x, bins=range(min(x), max(x) + binwidth, binwidth))\n",
    "# ax.set_xscale('log')\n",
    "# plt.xlabel('Frequency', size=15)\n",
    "# plt.ylabel('Number of Tickets Purchased')\n",
    "# fig.show()"
   ]
  },
  {
   "cell_type": "code",
   "execution_count": 41,
   "metadata": {},
   "outputs": [
    {
     "data": {
      "application/vnd.jupyter.widget-view+json": {
       "model_id": "f1e489816b3a421aafb527c01ae53b7a",
       "version_major": 2,
       "version_minor": 0
      },
      "text/plain": [
       "HBox(children=(IntProgress(value=0, max=10), HTML(value='')))"
      ]
     },
     "metadata": {},
     "output_type": "display_data"
    },
    {
     "name": "stdout",
     "output_type": "stream",
     "text": [
      "\n"
     ]
    },
    {
     "data": {
      "image/png": "[encoded data removed]",
      "text/plain": [
       "<Figure size 432x288 with 1 Axes>"
      ]
     },
     "metadata": {
      "needs_background": "light"
     },
     "output_type": "display_data"
    }
   ],
   "source": [
    "# test k values between 1 and 10\n",
    "temp = []\n",
    "cluster_numbers = list(range(1,11))\n",
    "\n",
    "for center in tqdm_notebook(cluster_numbers):\n",
    "    temp.append(get_kmeans_score(df_RFM[['Frequency']], center))\n",
    "    \n",
    "plt.plot(cluster_numbers, temp, linestyle='--', marker='o', color='b');\n",
    "plt.xlabel('K');\n",
    "plt.ylabel('SSE');\n",
    "plt.title('KMeans Score vs. K - Frequency');"
   ]
  },
  {
   "cell_type": "code",
   "execution_count": 42,
   "metadata": {},
   "outputs": [],
   "source": [
    "#build 5 clusters for frequency and add it to dataframe\n",
    "kmeans = KMeans(n_clusters=5)\n",
    "kmeans.fit(df_RFM[['Frequency']])\n",
    "df_RFM['FrequencyCluster'] = kmeans.predict(df_RFM[['Frequency']])\n",
    "\n",
    "df_RFM = order_cluster('FrequencyCluster', 'Frequency',df_RFM,False)"
   ]
  },
  {
   "cell_type": "code",
   "execution_count": 43,
   "metadata": {},
   "outputs": [],
   "source": [
    "#Reverse the FrequencyScore by reversing the labels\n",
    "df_RFM['FrequencyScore']=df_RFM['FrequencyCluster']\n",
    "\n",
    "score_correction={0:4, 1:3, 2:2, 3:1, 4:0}   \n",
    "for k,v in score_correction.items():\n",
    "    df_RFM['FrequencyScore'].loc[df_RFM['FrequencyCluster']==k] = v\n",
    "  "
   ]
  },
  {
   "cell_type": "code",
   "execution_count": 44,
   "metadata": {},
   "outputs": [
    {
     "data": {
      "text/html": [
       "<div>\n",
       "<style scoped>\n",
       "    .dataframe tbody tr th:only-of-type {\n",
       "        vertical-align: middle;\n",
       "    }\n",
       "\n",
       "    .dataframe tbody tr th {\n",
       "        vertical-align: top;\n",
       "    }\n",
       "\n",
       "    .dataframe thead th {\n",
       "        text-align: right;\n",
       "    }\n",
       "</style>\n",
       "<table border=\"1\" class=\"dataframe\">\n",
       "  <thead>\n",
       "    <tr style=\"text-align: right;\">\n",
       "      <th></th>\n",
       "      <th>Num_Customers</th>\n",
       "      <th>Mean Frequency</th>\n",
       "    </tr>\n",
       "    <tr>\n",
       "      <th>FrequencyScore</th>\n",
       "      <th></th>\n",
       "      <th></th>\n",
       "    </tr>\n",
       "  </thead>\n",
       "  <tbody>\n",
       "    <tr>\n",
       "      <th>0</th>\n",
       "      <td>341857.0</td>\n",
       "      <td>3.482158</td>\n",
       "    </tr>\n",
       "    <tr>\n",
       "      <th>1</th>\n",
       "      <td>24837.0</td>\n",
       "      <td>17.485969</td>\n",
       "    </tr>\n",
       "    <tr>\n",
       "      <th>2</th>\n",
       "      <td>57.0</td>\n",
       "      <td>289.631579</td>\n",
       "    </tr>\n",
       "    <tr>\n",
       "      <th>3</th>\n",
       "      <td>5.0</td>\n",
       "      <td>1920.000000</td>\n",
       "    </tr>\n",
       "    <tr>\n",
       "      <th>4</th>\n",
       "      <td>1.0</td>\n",
       "      <td>10690.000000</td>\n",
       "    </tr>\n",
       "  </tbody>\n",
       "</table>\n",
       "</div>"
      ],
      "text/plain": [
       "                Num_Customers  Mean Frequency\n",
       "FrequencyScore                               \n",
       "0                    341857.0        3.482158\n",
       "1                     24837.0       17.485969\n",
       "2                        57.0      289.631579\n",
       "3                         5.0     1920.000000\n",
       "4                         1.0    10690.000000"
      ]
     },
     "execution_count": 44,
     "metadata": {},
     "output_type": "execute_result"
    }
   ],
   "source": [
    "test=df_RFM.groupby('FrequencyScore').agg({'acct_id': np.size,\n",
    "                                        'Frequency':np.mean}).rename(columns={'acct_id': 'Num_Customers',\n",
    "                                                                            'Frequency': 'Mean Frequency'})\n",
    "test"
   ]
  },
  {
   "cell_type": "code",
   "execution_count": 47,
   "metadata": {},
   "outputs": [
    {
     "data": {
      "image/png": "[encoded data removed]",
      "text/plain": [
       "<Figure size 1080x504 with 1 Axes>"
      ]
     },
     "metadata": {
      "needs_background": "light"
     },
     "output_type": "display_data"
    }
   ],
   "source": [
    "x_multi = [df_RFM[df_RFM['FrequencyScore']==i]['Frequency'] for i in [0,1,2,3,4]]\n",
    "fig, ax = plt.subplots(figsize=(15,7))\n",
    "\n",
    "ax.hist(x_multi[0], bins = 50)\n",
    "# ax.set_xscale('log')\n",
    "plt.xlabel('Frequency', size=15)\n",
    "plt.ylabel('Count of Customers')\n",
    "fig.show()"
   ]
  },
  {
   "cell_type": "markdown",
   "metadata": {},
   "source": [
    "# Monetary"
   ]
  },
  {
   "cell_type": "code",
   "execution_count": 48,
   "metadata": {},
   "outputs": [
    {
     "data": {
      "text/plain": [
       "count    366757.000000\n",
       "mean        198.798152\n",
       "std         604.403678\n",
       "min          19.000000\n",
       "25%          76.000000\n",
       "50%         130.000000\n",
       "75%         258.000000\n",
       "max      229700.000000\n",
       "Name: Monetary, dtype: float64"
      ]
     },
     "execution_count": 48,
     "metadata": {},
     "output_type": "execute_result"
    }
   ],
   "source": [
    "df_RFM['Monetary'].describe()"
   ]
  },
  {
   "cell_type": "code",
   "execution_count": 49,
   "metadata": {},
   "outputs": [],
   "source": [
    "# fig, ax = plt.subplots(figsize=(15,7))\n",
    "# # x = df_RFM[df_RFM['Frequency']!=10690]['Frequency']\n",
    "# x = df_RFM['Monetary']\n",
    "# # binwidth = 10\n",
    "# ax.hist(x, bins=50)\n",
    "# ax.set_xscale('log')\n",
    "# plt.xlabel('Monetary', size=15)\n",
    "# plt.ylabel('Count of Customers')\n",
    "# fig.show()"
   ]
  },
  {
   "cell_type": "code",
   "execution_count": 50,
   "metadata": {},
   "outputs": [
    {
     "data": {
      "application/vnd.jupyter.widget-view+json": {
       "model_id": "479ae7c68ff3435bb7f5ef22a5c45ee1",
       "version_major": 2,
       "version_minor": 0
      },
      "text/plain": [
       "HBox(children=(IntProgress(value=0, max=10), HTML(value='')))"
      ]
     },
     "metadata": {},
     "output_type": "display_data"
    },
    {
     "name": "stdout",
     "output_type": "stream",
     "text": [
      "\n"
     ]
    },
    {
     "data": {
      "image/png": "[encoded data removed]",
      "text/plain": [
       "<Figure size 432x288 with 1 Axes>"
      ]
     },
     "metadata": {
      "needs_background": "light"
     },
     "output_type": "display_data"
    }
   ],
   "source": [
    "# test k values between 1 and 10\n",
    "temp = []\n",
    "cluster_numbers = list(range(1,11))\n",
    "\n",
    "for center in tqdm_notebook(cluster_numbers):\n",
    "    temp.append(get_kmeans_score(df_RFM[['Monetary']], center))\n",
    "    \n",
    "plt.plot(cluster_numbers, temp, linestyle='--', marker='o', color='b');\n",
    "plt.xlabel('K');\n",
    "plt.ylabel('SSE');\n",
    "plt.title('KMeans Score vs. K - Monetary');"
   ]
  },
  {
   "cell_type": "code",
   "execution_count": 51,
   "metadata": {},
   "outputs": [],
   "source": [
    "#build 5 clusters for monetary and add it to dataframe\n",
    "kmeans = KMeans(n_clusters=5)\n",
    "kmeans.fit(df_RFM[['Monetary']])\n",
    "df_RFM['MonetaryCluster'] = kmeans.predict(df_RFM[['Monetary']])\n",
    "\n",
    "df_RFM = order_cluster('MonetaryCluster', 'Monetary',df_RFM,False)"
   ]
  },
  {
   "cell_type": "code",
   "execution_count": 52,
   "metadata": {},
   "outputs": [],
   "source": [
    "#Reverse the MonetaryScore by reversing the labels\n",
    "df_RFM['MonetaryScore']=df_RFM['MonetaryCluster']\n",
    "\n",
    "score_correction={0:4, 1:3, 2:2, 3:1, 4:0}   \n",
    "for k,v in score_correction.items():\n",
    "    df_RFM['MonetaryScore'].loc[df_RFM['MonetaryCluster']==k] = v\n",
    "    "
   ]
  },
  {
   "cell_type": "code",
   "execution_count": 53,
   "metadata": {},
   "outputs": [
    {
     "data": {
      "text/html": [
       "<div>\n",
       "<style scoped>\n",
       "    .dataframe tbody tr th:only-of-type {\n",
       "        vertical-align: middle;\n",
       "    }\n",
       "\n",
       "    .dataframe tbody tr th {\n",
       "        vertical-align: top;\n",
       "    }\n",
       "\n",
       "    .dataframe thead th {\n",
       "        text-align: right;\n",
       "    }\n",
       "</style>\n",
       "<table border=\"1\" class=\"dataframe\">\n",
       "  <thead>\n",
       "    <tr style=\"text-align: right;\">\n",
       "      <th></th>\n",
       "      <th>Num_Customers</th>\n",
       "      <th>Mean Monetary</th>\n",
       "    </tr>\n",
       "    <tr>\n",
       "      <th>MonetaryScore</th>\n",
       "      <th></th>\n",
       "      <th></th>\n",
       "    </tr>\n",
       "  </thead>\n",
       "  <tbody>\n",
       "    <tr>\n",
       "      <th>0</th>\n",
       "      <td>341482.0</td>\n",
       "      <td>147.186470</td>\n",
       "    </tr>\n",
       "    <tr>\n",
       "      <th>1</th>\n",
       "      <td>25205.0</td>\n",
       "      <td>835.606388</td>\n",
       "    </tr>\n",
       "    <tr>\n",
       "      <th>2</th>\n",
       "      <td>64.0</td>\n",
       "      <td>14168.156250</td>\n",
       "    </tr>\n",
       "    <tr>\n",
       "      <th>3</th>\n",
       "      <td>5.0</td>\n",
       "      <td>90232.600000</td>\n",
       "    </tr>\n",
       "    <tr>\n",
       "      <th>4</th>\n",
       "      <td>1.0</td>\n",
       "      <td>229700.000000</td>\n",
       "    </tr>\n",
       "  </tbody>\n",
       "</table>\n",
       "</div>"
      ],
      "text/plain": [
       "               Num_Customers  Mean Monetary\n",
       "MonetaryScore                              \n",
       "0                   341482.0     147.186470\n",
       "1                    25205.0     835.606388\n",
       "2                       64.0   14168.156250\n",
       "3                        5.0   90232.600000\n",
       "4                        1.0  229700.000000"
      ]
     },
     "execution_count": 53,
     "metadata": {},
     "output_type": "execute_result"
    }
   ],
   "source": [
    "test=df_RFM.groupby('MonetaryScore').agg({'acct_id': np.size,\n",
    "                                        'Monetary':np.mean}).rename(columns={'acct_id': 'Num_Customers',\n",
    "                                                                            'Monetary': 'Mean Monetary'})\n",
    "test"
   ]
  },
  {
   "cell_type": "code",
   "execution_count": 54,
   "metadata": {},
   "outputs": [
    {
     "data": {
      "image/png": "[encoded data removed]",
      "text/plain": [
       "<Figure size 1080x504 with 1 Axes>"
      ]
     },
     "metadata": {
      "needs_background": "light"
     },
     "output_type": "display_data"
    }
   ],
   "source": [
    "x_multi = [df_RFM[df_RFM['MonetaryScore']==i]['Monetary'] for i in [0,1,2,3,4]]\n",
    "fig, ax = plt.subplots(figsize=(15,7))\n",
    "\n",
    "ax.hist(x_multi[0], bins = 50)\n",
    "# ax.set_xscale('log')\n",
    "plt.xlabel('Monetary', size=15)\n",
    "plt.ylabel('Count of Customers')\n",
    "fig.show()"
   ]
  },
  {
   "cell_type": "markdown",
   "metadata": {},
   "source": [
    "# Behavior"
   ]
  },
  {
   "cell_type": "code",
   "execution_count": 405,
   "metadata": {},
   "outputs": [],
   "source": [
    "#create a datafframe of just the behavioral features\n",
    "df_B=all_data_singleTicket[['acct_id',\n",
    "                            'ticket_scanned',\n",
    "                            'holiday',\n",
    "                            'giveaway_item',\n",
    "                            'event',\n",
    "                            'day_night_code',\n",
    "                            'series_nbr',\n",
    "                            'game_date_dow',\n",
    "                            'purchase_date_dow',\n",
    "                            'purchase_on_winStreak',\n",
    "                            'last_minute_buyer',\n",
    "                            '30_day_buyer',\n",
    "                            'section_500',\n",
    "                            'section_200',\n",
    "                            'section_100']]"
   ]
  },
  {
   "cell_type": "code",
   "execution_count": 406,
   "metadata": {},
   "outputs": [],
   "source": [
    "#create column for ticket count\n",
    "df_B['ticket_purchased']=1"
   ]
  },
  {
   "cell_type": "code",
   "execution_count": 407,
   "metadata": {},
   "outputs": [],
   "source": [
    "#bin series_nbr into beginning, beginning-middle, middle, middle-end, and end of season\n",
    "bins=[0,10,20, 30, 40, 52]\n",
    "labels=['beg', 'beg-mid', 'mid', 'mid-end', 'end']\n",
    "df_B['series_nbr_bins']=pd.cut(df_B['series_nbr'], bins=bins, labels=labels)"
   ]
  },
  {
   "cell_type": "code",
   "execution_count": 408,
   "metadata": {},
   "outputs": [],
   "source": [
    "#convert categorical features to dummy features\n",
    "df_B=pd.get_dummies(df_B, columns=['day_night_code', 'series_nbr_bins', 'purchase_date_dow', 'game_date_dow'])"
   ]
  },
  {
   "cell_type": "code",
   "execution_count": 409,
   "metadata": {},
   "outputs": [],
   "source": [
    "#group by acct_id and sum the features\n",
    "df_B_grouped=df_B.groupby(['acct_id']).sum()"
   ]
  },
  {
   "cell_type": "code",
   "execution_count": 410,
   "metadata": {},
   "outputs": [
    {
     "data": {
      "text/html": [
       "<div>\n",
       "<style scoped>\n",
       "    .dataframe tbody tr th:only-of-type {\n",
       "        vertical-align: middle;\n",
       "    }\n",
       "\n",
       "    .dataframe tbody tr th {\n",
       "        vertical-align: top;\n",
       "    }\n",
       "\n",
       "    .dataframe thead th {\n",
       "        text-align: right;\n",
       "    }\n",
       "</style>\n",
       "<table border=\"1\" class=\"dataframe\">\n",
       "  <thead>\n",
       "    <tr style=\"text-align: right;\">\n",
       "      <th></th>\n",
       "      <th>ticket_scanned</th>\n",
       "      <th>holiday</th>\n",
       "      <th>giveaway_item</th>\n",
       "      <th>event</th>\n",
       "      <th>series_nbr</th>\n",
       "      <th>purchase_on_winStreak</th>\n",
       "      <th>last_minute_buyer</th>\n",
       "      <th>30_day_buyer</th>\n",
       "      <th>section_500</th>\n",
       "      <th>section_200</th>\n",
       "      <th>...</th>\n",
       "      <th>purchase_date_dow_4</th>\n",
       "      <th>purchase_date_dow_5</th>\n",
       "      <th>purchase_date_dow_6</th>\n",
       "      <th>game_date_dow_0</th>\n",
       "      <th>game_date_dow_1</th>\n",
       "      <th>game_date_dow_2</th>\n",
       "      <th>game_date_dow_3</th>\n",
       "      <th>game_date_dow_4</th>\n",
       "      <th>game_date_dow_5</th>\n",
       "      <th>game_date_dow_6</th>\n",
       "    </tr>\n",
       "    <tr>\n",
       "      <th>acct_id</th>\n",
       "      <th></th>\n",
       "      <th></th>\n",
       "      <th></th>\n",
       "      <th></th>\n",
       "      <th></th>\n",
       "      <th></th>\n",
       "      <th></th>\n",
       "      <th></th>\n",
       "      <th></th>\n",
       "      <th></th>\n",
       "      <th></th>\n",
       "      <th></th>\n",
       "      <th></th>\n",
       "      <th></th>\n",
       "      <th></th>\n",
       "      <th></th>\n",
       "      <th></th>\n",
       "      <th></th>\n",
       "      <th></th>\n",
       "      <th></th>\n",
       "      <th></th>\n",
       "    </tr>\n",
       "  </thead>\n",
       "  <tbody>\n",
       "    <tr>\n",
       "      <th>-1.0</th>\n",
       "      <td>36288.0</td>\n",
       "      <td>2946</td>\n",
       "      <td>11279</td>\n",
       "      <td>18023</td>\n",
       "      <td>1150957</td>\n",
       "      <td>619</td>\n",
       "      <td>23777</td>\n",
       "      <td>29394</td>\n",
       "      <td>18294</td>\n",
       "      <td>8315</td>\n",
       "      <td>...</td>\n",
       "      <td>7390.0</td>\n",
       "      <td>4274.0</td>\n",
       "      <td>4121.0</td>\n",
       "      <td>2839.0</td>\n",
       "      <td>3430.0</td>\n",
       "      <td>3724.0</td>\n",
       "      <td>4351.0</td>\n",
       "      <td>6998.0</td>\n",
       "      <td>9042.0</td>\n",
       "      <td>9421.0</td>\n",
       "    </tr>\n",
       "    <tr>\n",
       "      <th>0.0</th>\n",
       "      <td>321871.0</td>\n",
       "      <td>19089</td>\n",
       "      <td>86054</td>\n",
       "      <td>121352</td>\n",
       "      <td>9237773</td>\n",
       "      <td>27425</td>\n",
       "      <td>306645</td>\n",
       "      <td>313703</td>\n",
       "      <td>184585</td>\n",
       "      <td>58814</td>\n",
       "      <td>...</td>\n",
       "      <td>60255.0</td>\n",
       "      <td>58714.0</td>\n",
       "      <td>47504.0</td>\n",
       "      <td>28726.0</td>\n",
       "      <td>47509.0</td>\n",
       "      <td>45797.0</td>\n",
       "      <td>29457.0</td>\n",
       "      <td>60338.0</td>\n",
       "      <td>62512.0</td>\n",
       "      <td>55381.0</td>\n",
       "    </tr>\n",
       "    <tr>\n",
       "      <th>2.0</th>\n",
       "      <td>0.0</td>\n",
       "      <td>0</td>\n",
       "      <td>2</td>\n",
       "      <td>3</td>\n",
       "      <td>403</td>\n",
       "      <td>0</td>\n",
       "      <td>3</td>\n",
       "      <td>3</td>\n",
       "      <td>2</td>\n",
       "      <td>1</td>\n",
       "      <td>...</td>\n",
       "      <td>6.0</td>\n",
       "      <td>0.0</td>\n",
       "      <td>1.0</td>\n",
       "      <td>0.0</td>\n",
       "      <td>1.0</td>\n",
       "      <td>0.0</td>\n",
       "      <td>2.0</td>\n",
       "      <td>6.0</td>\n",
       "      <td>0.0</td>\n",
       "      <td>1.0</td>\n",
       "    </tr>\n",
       "    <tr>\n",
       "      <th>24.0</th>\n",
       "      <td>0.0</td>\n",
       "      <td>0</td>\n",
       "      <td>0</td>\n",
       "      <td>0</td>\n",
       "      <td>99</td>\n",
       "      <td>0</td>\n",
       "      <td>0</td>\n",
       "      <td>0</td>\n",
       "      <td>0</td>\n",
       "      <td>0</td>\n",
       "      <td>...</td>\n",
       "      <td>0.0</td>\n",
       "      <td>0.0</td>\n",
       "      <td>0.0</td>\n",
       "      <td>0.0</td>\n",
       "      <td>0.0</td>\n",
       "      <td>0.0</td>\n",
       "      <td>0.0</td>\n",
       "      <td>0.0</td>\n",
       "      <td>0.0</td>\n",
       "      <td>3.0</td>\n",
       "    </tr>\n",
       "    <tr>\n",
       "      <th>57.0</th>\n",
       "      <td>0.0</td>\n",
       "      <td>0</td>\n",
       "      <td>2</td>\n",
       "      <td>2</td>\n",
       "      <td>134</td>\n",
       "      <td>1</td>\n",
       "      <td>2</td>\n",
       "      <td>4</td>\n",
       "      <td>0</td>\n",
       "      <td>0</td>\n",
       "      <td>...</td>\n",
       "      <td>0.0</td>\n",
       "      <td>0.0</td>\n",
       "      <td>0.0</td>\n",
       "      <td>0.0</td>\n",
       "      <td>0.0</td>\n",
       "      <td>0.0</td>\n",
       "      <td>1.0</td>\n",
       "      <td>3.0</td>\n",
       "      <td>0.0</td>\n",
       "      <td>0.0</td>\n",
       "    </tr>\n",
       "  </tbody>\n",
       "</table>\n",
       "<p>5 rows × 34 columns</p>\n",
       "</div>"
      ],
      "text/plain": [
       "         ticket_scanned  holiday  giveaway_item   event  series_nbr  \\\n",
       "acct_id                                                               \n",
       "-1.0            36288.0     2946          11279   18023     1150957   \n",
       " 0.0           321871.0    19089          86054  121352     9237773   \n",
       " 2.0                0.0        0              2       3         403   \n",
       " 24.0               0.0        0              0       0          99   \n",
       " 57.0               0.0        0              2       2         134   \n",
       "\n",
       "         purchase_on_winStreak  last_minute_buyer  30_day_buyer  section_500  \\\n",
       "acct_id                                                                        \n",
       "-1.0                       619              23777         29394        18294   \n",
       " 0.0                     27425             306645        313703       184585   \n",
       " 2.0                         0                  3             3            2   \n",
       " 24.0                        0                  0             0            0   \n",
       " 57.0                        1                  2             4            0   \n",
       "\n",
       "         section_200  ...  purchase_date_dow_4  purchase_date_dow_5  \\\n",
       "acct_id               ...                                             \n",
       "-1.0            8315  ...               7390.0               4274.0   \n",
       " 0.0           58814  ...              60255.0              58714.0   \n",
       " 2.0               1  ...                  6.0                  0.0   \n",
       " 24.0              0  ...                  0.0                  0.0   \n",
       " 57.0              0  ...                  0.0                  0.0   \n",
       "\n",
       "         purchase_date_dow_6  game_date_dow_0  game_date_dow_1  \\\n",
       "acct_id                                                          \n",
       "-1.0                  4121.0           2839.0           3430.0   \n",
       " 0.0                 47504.0          28726.0          47509.0   \n",
       " 2.0                     1.0              0.0              1.0   \n",
       " 24.0                    0.0              0.0              0.0   \n",
       " 57.0                    0.0              0.0              0.0   \n",
       "\n",
       "         game_date_dow_2  game_date_dow_3  game_date_dow_4  game_date_dow_5  \\\n",
       "acct_id                                                                       \n",
       "-1.0              3724.0           4351.0           6998.0           9042.0   \n",
       " 0.0             45797.0          29457.0          60338.0          62512.0   \n",
       " 2.0                 0.0              2.0              6.0              0.0   \n",
       " 24.0                0.0              0.0              0.0              0.0   \n",
       " 57.0                0.0              1.0              3.0              0.0   \n",
       "\n",
       "         game_date_dow_6  \n",
       "acct_id                   \n",
       "-1.0              9421.0  \n",
       " 0.0             55381.0  \n",
       " 2.0                 1.0  \n",
       " 24.0                3.0  \n",
       " 57.0                0.0  \n",
       "\n",
       "[5 rows x 34 columns]"
      ]
     },
     "execution_count": 410,
     "metadata": {},
     "output_type": "execute_result"
    }
   ],
   "source": [
    "df_B_grouped.head()"
   ]
  },
  {
   "cell_type": "code",
   "execution_count": 411,
   "metadata": {},
   "outputs": [],
   "source": [
    "#remove the -1 and 0 acct_id\n",
    "df_B_grouped=df_B_grouped[(df_B_grouped.index!=-1) & (df_B_grouped.index!=0)]"
   ]
  },
  {
   "cell_type": "code",
   "execution_count": 412,
   "metadata": {},
   "outputs": [],
   "source": [
    "#create a column for number of tickets and change ticket_scanned to %scanned\n",
    "df_B_grouped['percent_tickets_scanned']=(df_B_grouped['ticket_scanned']/df_B_grouped['ticket_purchased']*100).astype(int)"
   ]
  },
  {
   "cell_type": "code",
   "execution_count": 413,
   "metadata": {},
   "outputs": [],
   "source": [
    "#drop useless columns\n",
    "df_B_grouped.drop(columns=['ticket_scanned',\n",
    "                           'series_nbr'], inplace=True)"
   ]
  },
  {
   "cell_type": "code",
   "execution_count": 414,
   "metadata": {},
   "outputs": [],
   "source": [
    "#scale features around mean\n",
    "df_B_grouped_columns=df_B_grouped.columns\n",
    "df_B_grouped_ss=p.StandardScaler().fit_transform(df_B_grouped)\n",
    "df_B_grouped_ss=pd.DataFrame(df_B_grouped_ss, columns=df_B_grouped_columns)"
   ]
  },
  {
   "cell_type": "code",
   "execution_count": 415,
   "metadata": {},
   "outputs": [
    {
     "data": {
      "text/html": [
       "<div>\n",
       "<style scoped>\n",
       "    .dataframe tbody tr th:only-of-type {\n",
       "        vertical-align: middle;\n",
       "    }\n",
       "\n",
       "    .dataframe tbody tr th {\n",
       "        vertical-align: top;\n",
       "    }\n",
       "\n",
       "    .dataframe thead th {\n",
       "        text-align: right;\n",
       "    }\n",
       "</style>\n",
       "<table border=\"1\" class=\"dataframe\">\n",
       "  <thead>\n",
       "    <tr style=\"text-align: right;\">\n",
       "      <th></th>\n",
       "      <th>holiday</th>\n",
       "      <th>giveaway_item</th>\n",
       "      <th>event</th>\n",
       "      <th>purchase_on_winStreak</th>\n",
       "      <th>last_minute_buyer</th>\n",
       "      <th>30_day_buyer</th>\n",
       "      <th>section_500</th>\n",
       "      <th>section_200</th>\n",
       "      <th>section_100</th>\n",
       "      <th>ticket_purchased</th>\n",
       "      <th>...</th>\n",
       "      <th>purchase_date_dow_5</th>\n",
       "      <th>purchase_date_dow_6</th>\n",
       "      <th>game_date_dow_0</th>\n",
       "      <th>game_date_dow_1</th>\n",
       "      <th>game_date_dow_2</th>\n",
       "      <th>game_date_dow_3</th>\n",
       "      <th>game_date_dow_4</th>\n",
       "      <th>game_date_dow_5</th>\n",
       "      <th>game_date_dow_6</th>\n",
       "      <th>percent_tickets_scanned</th>\n",
       "    </tr>\n",
       "  </thead>\n",
       "  <tbody>\n",
       "    <tr>\n",
       "      <th>0</th>\n",
       "      <td>-0.277347</td>\n",
       "      <td>0.059602</td>\n",
       "      <td>0.141647</td>\n",
       "      <td>-0.179603</td>\n",
       "      <td>0.112745</td>\n",
       "      <td>0.035606</td>\n",
       "      <td>0.017842</td>\n",
       "      <td>0.066926</td>\n",
       "      <td>0.770272</td>\n",
       "      <td>0.271788</td>\n",
       "      <td>...</td>\n",
       "      <td>-0.298506</td>\n",
       "      <td>0.273914</td>\n",
       "      <td>-0.180815</td>\n",
       "      <td>0.170571</td>\n",
       "      <td>-0.199381</td>\n",
       "      <td>0.236207</td>\n",
       "      <td>1.136089</td>\n",
       "      <td>-0.222140</td>\n",
       "      <td>0.017630</td>\n",
       "      <td>-4.271534</td>\n",
       "    </tr>\n",
       "    <tr>\n",
       "      <th>1</th>\n",
       "      <td>-0.277347</td>\n",
       "      <td>-0.175345</td>\n",
       "      <td>-0.173723</td>\n",
       "      <td>-0.179603</td>\n",
       "      <td>-0.216456</td>\n",
       "      <td>-0.238746</td>\n",
       "      <td>-0.095292</td>\n",
       "      <td>-0.318194</td>\n",
       "      <td>0.151649</td>\n",
       "      <td>-0.076036</td>\n",
       "      <td>...</td>\n",
       "      <td>-0.298506</td>\n",
       "      <td>-0.273847</td>\n",
       "      <td>-0.180815</td>\n",
       "      <td>-0.167520</td>\n",
       "      <td>-0.199381</td>\n",
       "      <td>-0.074495</td>\n",
       "      <td>-0.166314</td>\n",
       "      <td>-0.222140</td>\n",
       "      <td>0.584882</td>\n",
       "      <td>-4.271534</td>\n",
       "    </tr>\n",
       "    <tr>\n",
       "      <th>2</th>\n",
       "      <td>-0.277347</td>\n",
       "      <td>0.059602</td>\n",
       "      <td>0.036523</td>\n",
       "      <td>0.863482</td>\n",
       "      <td>0.003011</td>\n",
       "      <td>0.127056</td>\n",
       "      <td>-0.095292</td>\n",
       "      <td>-0.318194</td>\n",
       "      <td>0.306305</td>\n",
       "      <td>-0.026347</td>\n",
       "      <td>...</td>\n",
       "      <td>-0.298506</td>\n",
       "      <td>-0.273847</td>\n",
       "      <td>-0.180815</td>\n",
       "      <td>-0.167520</td>\n",
       "      <td>-0.199381</td>\n",
       "      <td>0.080856</td>\n",
       "      <td>0.484887</td>\n",
       "      <td>-0.222140</td>\n",
       "      <td>-0.265996</td>\n",
       "      <td>-4.271534</td>\n",
       "    </tr>\n",
       "    <tr>\n",
       "      <th>3</th>\n",
       "      <td>-0.277347</td>\n",
       "      <td>0.529497</td>\n",
       "      <td>0.457017</td>\n",
       "      <td>-0.179603</td>\n",
       "      <td>-0.216456</td>\n",
       "      <td>-0.238746</td>\n",
       "      <td>-0.095292</td>\n",
       "      <td>-0.318194</td>\n",
       "      <td>2.935451</td>\n",
       "      <td>0.818368</td>\n",
       "      <td>...</td>\n",
       "      <td>-0.298506</td>\n",
       "      <td>-0.273847</td>\n",
       "      <td>-0.180815</td>\n",
       "      <td>1.861027</td>\n",
       "      <td>2.260853</td>\n",
       "      <td>0.391558</td>\n",
       "      <td>-0.166314</td>\n",
       "      <td>-0.222140</td>\n",
       "      <td>1.435760</td>\n",
       "      <td>-0.612691</td>\n",
       "    </tr>\n",
       "    <tr>\n",
       "      <th>4</th>\n",
       "      <td>-0.277347</td>\n",
       "      <td>-0.175345</td>\n",
       "      <td>0.141647</td>\n",
       "      <td>-0.179603</td>\n",
       "      <td>-0.216456</td>\n",
       "      <td>-0.238746</td>\n",
       "      <td>-0.095292</td>\n",
       "      <td>-0.318194</td>\n",
       "      <td>0.151649</td>\n",
       "      <td>-0.076036</td>\n",
       "      <td>...</td>\n",
       "      <td>-0.298506</td>\n",
       "      <td>-0.273847</td>\n",
       "      <td>-0.180815</td>\n",
       "      <td>-0.167520</td>\n",
       "      <td>-0.199381</td>\n",
       "      <td>-0.074495</td>\n",
       "      <td>-0.166314</td>\n",
       "      <td>0.401635</td>\n",
       "      <td>-0.265996</td>\n",
       "      <td>0.302020</td>\n",
       "    </tr>\n",
       "  </tbody>\n",
       "</table>\n",
       "<p>5 rows × 33 columns</p>\n",
       "</div>"
      ],
      "text/plain": [
       "    holiday  giveaway_item     event  purchase_on_winStreak  \\\n",
       "0 -0.277347       0.059602  0.141647              -0.179603   \n",
       "1 -0.277347      -0.175345 -0.173723              -0.179603   \n",
       "2 -0.277347       0.059602  0.036523               0.863482   \n",
       "3 -0.277347       0.529497  0.457017              -0.179603   \n",
       "4 -0.277347      -0.175345  0.141647              -0.179603   \n",
       "\n",
       "   last_minute_buyer  30_day_buyer  section_500  section_200  section_100  \\\n",
       "0           0.112745      0.035606     0.017842     0.066926     0.770272   \n",
       "1          -0.216456     -0.238746    -0.095292    -0.318194     0.151649   \n",
       "2           0.003011      0.127056    -0.095292    -0.318194     0.306305   \n",
       "3          -0.216456     -0.238746    -0.095292    -0.318194     2.935451   \n",
       "4          -0.216456     -0.238746    -0.095292    -0.318194     0.151649   \n",
       "\n",
       "   ticket_purchased  ...  purchase_date_dow_5  purchase_date_dow_6  \\\n",
       "0          0.271788  ...            -0.298506             0.273914   \n",
       "1         -0.076036  ...            -0.298506            -0.273847   \n",
       "2         -0.026347  ...            -0.298506            -0.273847   \n",
       "3          0.818368  ...            -0.298506            -0.273847   \n",
       "4         -0.076036  ...            -0.298506            -0.273847   \n",
       "\n",
       "   game_date_dow_0  game_date_dow_1  game_date_dow_2  game_date_dow_3  \\\n",
       "0        -0.180815         0.170571        -0.199381         0.236207   \n",
       "1        -0.180815        -0.167520        -0.199381        -0.074495   \n",
       "2        -0.180815        -0.167520        -0.199381         0.080856   \n",
       "3        -0.180815         1.861027         2.260853         0.391558   \n",
       "4        -0.180815        -0.167520        -0.199381        -0.074495   \n",
       "\n",
       "   game_date_dow_4  game_date_dow_5  game_date_dow_6  percent_tickets_scanned  \n",
       "0         1.136089        -0.222140         0.017630                -4.271534  \n",
       "1        -0.166314        -0.222140         0.584882                -4.271534  \n",
       "2         0.484887        -0.222140        -0.265996                -4.271534  \n",
       "3        -0.166314        -0.222140         1.435760                -0.612691  \n",
       "4        -0.166314         0.401635        -0.265996                 0.302020  \n",
       "\n",
       "[5 rows x 33 columns]"
      ]
     },
     "execution_count": 415,
     "metadata": {},
     "output_type": "execute_result"
    }
   ],
   "source": [
    "df_B_grouped_ss.head()"
   ]
  },
  {
   "cell_type": "code",
   "execution_count": 416,
   "metadata": {},
   "outputs": [
    {
     "data": {
      "application/vnd.jupyter.widget-view+json": {
       "model_id": "036ef04fbdf2473b80d6a6a8ac18af96",
       "version_major": 2,
       "version_minor": 0
      },
      "text/plain": [
       "HBox(children=(IntProgress(value=0, max=10), HTML(value='')))"
      ]
     },
     "metadata": {},
     "output_type": "display_data"
    },
    {
     "name": "stdout",
     "output_type": "stream",
     "text": [
      "\n"
     ]
    },
    {
     "data": {
      "image/png": "[encoded data removed]",
      "text/plain": [
       "<Figure size 432x288 with 1 Axes>"
      ]
     },
     "metadata": {
      "needs_background": "light"
     },
     "output_type": "display_data"
    }
   ],
   "source": [
    "# test k values between 1 and 10\n",
    "temp = []\n",
    "cluster_numbers = list(range(1,11))\n",
    "\n",
    "for center in tqdm_notebook(cluster_numbers):\n",
    "    temp.append(get_kmeans_score(df_B_grouped_ss, center))\n",
    "    \n",
    "plt.plot(cluster_numbers, temp, linestyle='--', marker='o', color='b');\n",
    "plt.xlabel('K');\n",
    "plt.ylabel('SSE');\n",
    "plt.title('KMeans Score vs. K - Behavior');"
   ]
  },
  {
   "cell_type": "code",
   "execution_count": 417,
   "metadata": {},
   "outputs": [],
   "source": [
    "#build 4 clusters for behavior and add it to dataframe\n",
    "kmeans = KMeans(n_clusters=4)\n",
    "model_behavior = kmeans.fit(df_B_grouped_ss)\n",
    "labels_behavior = model_behavior.predict(df_B_grouped_ss)\n",
    "\n",
    "#append cluster label to orginal dataframe\n",
    "df_B_grouped['BehaviorCluster']=labels_behavior"
   ]
  },
  {
   "cell_type": "code",
   "execution_count": 418,
   "metadata": {},
   "outputs": [],
   "source": [
    "df_B_grouped.reset_index(drop=False, inplace=True)"
   ]
  },
  {
   "cell_type": "code",
   "execution_count": 419,
   "metadata": {},
   "outputs": [
    {
     "data": {
      "text/html": [
       "<div>\n",
       "<style scoped>\n",
       "    .dataframe tbody tr th:only-of-type {\n",
       "        vertical-align: middle;\n",
       "    }\n",
       "\n",
       "    .dataframe tbody tr th {\n",
       "        vertical-align: top;\n",
       "    }\n",
       "\n",
       "    .dataframe thead th {\n",
       "        text-align: right;\n",
       "    }\n",
       "</style>\n",
       "<table border=\"1\" class=\"dataframe\">\n",
       "  <thead>\n",
       "    <tr style=\"text-align: right;\">\n",
       "      <th></th>\n",
       "      <th>acct_id</th>\n",
       "      <th>holiday</th>\n",
       "      <th>giveaway_item</th>\n",
       "      <th>event</th>\n",
       "      <th>purchase_on_winStreak</th>\n",
       "      <th>last_minute_buyer</th>\n",
       "      <th>30_day_buyer</th>\n",
       "      <th>section_500</th>\n",
       "      <th>section_200</th>\n",
       "      <th>section_100</th>\n",
       "      <th>...</th>\n",
       "      <th>purchase_date_dow_6</th>\n",
       "      <th>game_date_dow_0</th>\n",
       "      <th>game_date_dow_1</th>\n",
       "      <th>game_date_dow_2</th>\n",
       "      <th>game_date_dow_3</th>\n",
       "      <th>game_date_dow_4</th>\n",
       "      <th>game_date_dow_5</th>\n",
       "      <th>game_date_dow_6</th>\n",
       "      <th>percent_tickets_scanned</th>\n",
       "      <th>BehaviorCluster</th>\n",
       "    </tr>\n",
       "  </thead>\n",
       "  <tbody>\n",
       "    <tr>\n",
       "      <th>0</th>\n",
       "      <td>2.0</td>\n",
       "      <td>0</td>\n",
       "      <td>2</td>\n",
       "      <td>3</td>\n",
       "      <td>0</td>\n",
       "      <td>3</td>\n",
       "      <td>3</td>\n",
       "      <td>2</td>\n",
       "      <td>1</td>\n",
       "      <td>7</td>\n",
       "      <td>...</td>\n",
       "      <td>1.0</td>\n",
       "      <td>0.0</td>\n",
       "      <td>1.0</td>\n",
       "      <td>0.0</td>\n",
       "      <td>2.0</td>\n",
       "      <td>6.0</td>\n",
       "      <td>0.0</td>\n",
       "      <td>1.0</td>\n",
       "      <td>0</td>\n",
       "      <td>2</td>\n",
       "    </tr>\n",
       "    <tr>\n",
       "      <th>1</th>\n",
       "      <td>24.0</td>\n",
       "      <td>0</td>\n",
       "      <td>0</td>\n",
       "      <td>0</td>\n",
       "      <td>0</td>\n",
       "      <td>0</td>\n",
       "      <td>0</td>\n",
       "      <td>0</td>\n",
       "      <td>0</td>\n",
       "      <td>3</td>\n",
       "      <td>...</td>\n",
       "      <td>0.0</td>\n",
       "      <td>0.0</td>\n",
       "      <td>0.0</td>\n",
       "      <td>0.0</td>\n",
       "      <td>0.0</td>\n",
       "      <td>0.0</td>\n",
       "      <td>0.0</td>\n",
       "      <td>3.0</td>\n",
       "      <td>0</td>\n",
       "      <td>2</td>\n",
       "    </tr>\n",
       "    <tr>\n",
       "      <th>2</th>\n",
       "      <td>57.0</td>\n",
       "      <td>0</td>\n",
       "      <td>2</td>\n",
       "      <td>2</td>\n",
       "      <td>1</td>\n",
       "      <td>2</td>\n",
       "      <td>4</td>\n",
       "      <td>0</td>\n",
       "      <td>0</td>\n",
       "      <td>4</td>\n",
       "      <td>...</td>\n",
       "      <td>0.0</td>\n",
       "      <td>0.0</td>\n",
       "      <td>0.0</td>\n",
       "      <td>0.0</td>\n",
       "      <td>1.0</td>\n",
       "      <td>3.0</td>\n",
       "      <td>0.0</td>\n",
       "      <td>0.0</td>\n",
       "      <td>0</td>\n",
       "      <td>2</td>\n",
       "    </tr>\n",
       "    <tr>\n",
       "      <th>3</th>\n",
       "      <td>75.0</td>\n",
       "      <td>0</td>\n",
       "      <td>6</td>\n",
       "      <td>6</td>\n",
       "      <td>0</td>\n",
       "      <td>0</td>\n",
       "      <td>0</td>\n",
       "      <td>0</td>\n",
       "      <td>0</td>\n",
       "      <td>21</td>\n",
       "      <td>...</td>\n",
       "      <td>0.0</td>\n",
       "      <td>0.0</td>\n",
       "      <td>6.0</td>\n",
       "      <td>6.0</td>\n",
       "      <td>3.0</td>\n",
       "      <td>0.0</td>\n",
       "      <td>0.0</td>\n",
       "      <td>6.0</td>\n",
       "      <td>80</td>\n",
       "      <td>0</td>\n",
       "    </tr>\n",
       "    <tr>\n",
       "      <th>4</th>\n",
       "      <td>82.0</td>\n",
       "      <td>0</td>\n",
       "      <td>0</td>\n",
       "      <td>3</td>\n",
       "      <td>0</td>\n",
       "      <td>0</td>\n",
       "      <td>0</td>\n",
       "      <td>0</td>\n",
       "      <td>0</td>\n",
       "      <td>3</td>\n",
       "      <td>...</td>\n",
       "      <td>0.0</td>\n",
       "      <td>0.0</td>\n",
       "      <td>0.0</td>\n",
       "      <td>0.0</td>\n",
       "      <td>0.0</td>\n",
       "      <td>0.0</td>\n",
       "      <td>3.0</td>\n",
       "      <td>0.0</td>\n",
       "      <td>100</td>\n",
       "      <td>2</td>\n",
       "    </tr>\n",
       "  </tbody>\n",
       "</table>\n",
       "<p>5 rows × 35 columns</p>\n",
       "</div>"
      ],
      "text/plain": [
       "   acct_id  holiday  giveaway_item  event  purchase_on_winStreak  \\\n",
       "0      2.0        0              2      3                      0   \n",
       "1     24.0        0              0      0                      0   \n",
       "2     57.0        0              2      2                      1   \n",
       "3     75.0        0              6      6                      0   \n",
       "4     82.0        0              0      3                      0   \n",
       "\n",
       "   last_minute_buyer  30_day_buyer  section_500  section_200  section_100  \\\n",
       "0                  3             3            2            1            7   \n",
       "1                  0             0            0            0            3   \n",
       "2                  2             4            0            0            4   \n",
       "3                  0             0            0            0           21   \n",
       "4                  0             0            0            0            3   \n",
       "\n",
       "   ...  purchase_date_dow_6  game_date_dow_0  game_date_dow_1  \\\n",
       "0  ...                  1.0              0.0              1.0   \n",
       "1  ...                  0.0              0.0              0.0   \n",
       "2  ...                  0.0              0.0              0.0   \n",
       "3  ...                  0.0              0.0              6.0   \n",
       "4  ...                  0.0              0.0              0.0   \n",
       "\n",
       "   game_date_dow_2  game_date_dow_3  game_date_dow_4  game_date_dow_5  \\\n",
       "0              0.0              2.0              6.0              0.0   \n",
       "1              0.0              0.0              0.0              0.0   \n",
       "2              0.0              1.0              3.0              0.0   \n",
       "3              6.0              3.0              0.0              0.0   \n",
       "4              0.0              0.0              0.0              3.0   \n",
       "\n",
       "   game_date_dow_6  percent_tickets_scanned  BehaviorCluster  \n",
       "0              1.0                        0                2  \n",
       "1              3.0                        0                2  \n",
       "2              0.0                        0                2  \n",
       "3              6.0                       80                0  \n",
       "4              0.0                      100                2  \n",
       "\n",
       "[5 rows x 35 columns]"
      ]
     },
     "execution_count": 419,
     "metadata": {},
     "output_type": "execute_result"
    }
   ],
   "source": [
    "df_B_grouped.head()"
   ]
  },
  {
   "cell_type": "markdown",
   "metadata": {},
   "source": [
    "# RFM ANALYSIS"
   ]
  },
  {
   "cell_type": "code",
   "execution_count": 429,
   "metadata": {},
   "outputs": [],
   "source": [
    "df_RFM=df_RFM[['acct_id', 'Frequency', 'Recency', 'Monetary', 'RecencyScore', 'FrequencyScore', 'MonetaryScore']]"
   ]
  },
  {
   "cell_type": "code",
   "execution_count": 430,
   "metadata": {},
   "outputs": [],
   "source": [
    "df_RFM['RFM_Score']=df_RFM['RecencyScore']+df_RFM['FrequencyScore']+df_RFM['MonetaryScore']"
   ]
  },
  {
   "cell_type": "code",
   "execution_count": 431,
   "metadata": {},
   "outputs": [],
   "source": [
    "RFM_scoreSum=df_RFM.groupby('RFM_Score')['Recency', 'Frequency', 'Monetary'].mean()"
   ]
  },
  {
   "cell_type": "code",
   "execution_count": 433,
   "metadata": {},
   "outputs": [
    {
     "data": {
      "text/html": [
       "<div>\n",
       "<style scoped>\n",
       "    .dataframe tbody tr th:only-of-type {\n",
       "        vertical-align: middle;\n",
       "    }\n",
       "\n",
       "    .dataframe tbody tr th {\n",
       "        vertical-align: top;\n",
       "    }\n",
       "\n",
       "    .dataframe thead th {\n",
       "        text-align: right;\n",
       "    }\n",
       "</style>\n",
       "<table border=\"1\" class=\"dataframe\">\n",
       "  <thead>\n",
       "    <tr style=\"text-align: right;\">\n",
       "      <th></th>\n",
       "      <th>RFM_Score</th>\n",
       "      <th>Recency</th>\n",
       "      <th>Frequency</th>\n",
       "      <th>Monetary</th>\n",
       "      <th>Segment</th>\n",
       "    </tr>\n",
       "  </thead>\n",
       "  <tbody>\n",
       "    <tr>\n",
       "      <th>0</th>\n",
       "      <td>0</td>\n",
       "      <td>800.774688</td>\n",
       "      <td>3.140363</td>\n",
       "      <td>136.576982</td>\n",
       "      <td>Low-Value</td>\n",
       "    </tr>\n",
       "    <tr>\n",
       "      <th>1</th>\n",
       "      <td>1</td>\n",
       "      <td>445.630091</td>\n",
       "      <td>3.553858</td>\n",
       "      <td>152.284791</td>\n",
       "      <td>Low-Value</td>\n",
       "    </tr>\n",
       "    <tr>\n",
       "      <th>2</th>\n",
       "      <td>2</td>\n",
       "      <td>106.221283</td>\n",
       "      <td>4.022685</td>\n",
       "      <td>171.264094</td>\n",
       "      <td>Mid-Value</td>\n",
       "    </tr>\n",
       "    <tr>\n",
       "      <th>3</th>\n",
       "      <td>3</td>\n",
       "      <td>216.747090</td>\n",
       "      <td>13.650909</td>\n",
       "      <td>595.291312</td>\n",
       "      <td>Mid-Value</td>\n",
       "    </tr>\n",
       "    <tr>\n",
       "      <th>4</th>\n",
       "      <td>4</td>\n",
       "      <td>62.491895</td>\n",
       "      <td>19.686126</td>\n",
       "      <td>998.723023</td>\n",
       "      <td>Mid-Value</td>\n",
       "    </tr>\n",
       "    <tr>\n",
       "      <th>5</th>\n",
       "      <td>5</td>\n",
       "      <td>46.318182</td>\n",
       "      <td>167.227273</td>\n",
       "      <td>8497.409091</td>\n",
       "      <td>Mid-Value</td>\n",
       "    </tr>\n",
       "    <tr>\n",
       "      <th>6</th>\n",
       "      <td>6</td>\n",
       "      <td>24.342105</td>\n",
       "      <td>345.526316</td>\n",
       "      <td>18483.263158</td>\n",
       "      <td>High-Value</td>\n",
       "    </tr>\n",
       "    <tr>\n",
       "      <th>7</th>\n",
       "      <td>7</td>\n",
       "      <td>13.000000</td>\n",
       "      <td>1662.000000</td>\n",
       "      <td>31578.000000</td>\n",
       "      <td>High-Value</td>\n",
       "    </tr>\n",
       "    <tr>\n",
       "      <th>8</th>\n",
       "      <td>8</td>\n",
       "      <td>47.750000</td>\n",
       "      <td>1984.500000</td>\n",
       "      <td>96466.000000</td>\n",
       "      <td>High-Value</td>\n",
       "    </tr>\n",
       "    <tr>\n",
       "      <th>9</th>\n",
       "      <td>10</td>\n",
       "      <td>0.000000</td>\n",
       "      <td>10690.000000</td>\n",
       "      <td>229700.000000</td>\n",
       "      <td>High-Value</td>\n",
       "    </tr>\n",
       "  </tbody>\n",
       "</table>\n",
       "</div>"
      ],
      "text/plain": [
       "   RFM_Score     Recency     Frequency       Monetary     Segment\n",
       "0          0  800.774688      3.140363     136.576982   Low-Value\n",
       "1          1  445.630091      3.553858     152.284791   Low-Value\n",
       "2          2  106.221283      4.022685     171.264094   Mid-Value\n",
       "3          3  216.747090     13.650909     595.291312   Mid-Value\n",
       "4          4   62.491895     19.686126     998.723023   Mid-Value\n",
       "5          5   46.318182    167.227273    8497.409091   Mid-Value\n",
       "6          6   24.342105    345.526316   18483.263158  High-Value\n",
       "7          7   13.000000   1662.000000   31578.000000  High-Value\n",
       "8          8   47.750000   1984.500000   96466.000000  High-Value\n",
       "9         10    0.000000  10690.000000  229700.000000  High-Value"
      ]
     },
     "execution_count": 433,
     "metadata": {},
     "output_type": "execute_result"
    }
   ],
   "source": [
    "RFM_scoreSum['Segment'] = 'Low-Value'\n",
    "RFM_scoreSum.loc[RFM_scoreSum.index>1,'Segment'] = 'Mid-Value' \n",
    "RFM_scoreSum.loc[RFM_scoreSum.index>5,'Segment'] = 'High-Value' \n",
    "\n",
    "RFM_scoreSum.reset_index(drop=False, inplace=True)\n",
    "RFM_scoreSum_formerge=RFM_scoreSum[['RFM_Score', 'Segment']]\n",
    "RFM_scoreSum"
   ]
  },
  {
   "cell_type": "code",
   "execution_count": 434,
   "metadata": {},
   "outputs": [
    {
     "name": "stdout",
     "output_type": "stream",
     "text": [
      "(366757, 35)\n",
      "(366757, 8)\n",
      "(366757, 43)\n"
     ]
    }
   ],
   "source": [
    "print(df_B_grouped.shape)\n",
    "print(df_RFM.shape)\n",
    "\n",
    "test=pd.merge(df_B_grouped, df_RFM, on='acct_id', how='left')\n",
    "test=pd.merge(test, RFM_scoreSum_formerge, on='RFM_Score', how='left')\n",
    "print(test.shape)"
   ]
  },
  {
   "cell_type": "code",
   "execution_count": 436,
   "metadata": {},
   "outputs": [],
   "source": [
    "agg_dict={'acct_id': np.size,\n",
    "          'holiday': np.sum,\n",
    "          'giveaway_item': np.sum,\n",
    "          'event': np.sum,\n",
    "          'purchase_on_winStreak': np.sum,\n",
    "          'last_minute_buyer': np.sum,\n",
    "          '30_day_buyer': np.sum,\n",
    "          'section_500': np.sum,\n",
    "          'section_200': np.sum,\n",
    "          'section_100': np.sum,\n",
    "          'day_night_code_A': np.sum,\n",
    "          'day_night_code_D': np.sum,\n",
    "          'day_night_code_E': np.sum,\n",
    "          'series_nbr_bins_beg': np.sum,\n",
    "          'series_nbr_bins_beg-mid': np.sum,\n",
    "          'series_nbr_bins_mid': np.sum,\n",
    "          'series_nbr_bins_mid-end': np.sum,\n",
    "          'series_nbr_bins_end': np.sum,\n",
    "          'game_date_dow_0': np.sum,\n",
    "          'game_date_dow_1': np.sum,\n",
    "          'game_date_dow_2': np.sum,\n",
    "          'game_date_dow_3': np.sum,\n",
    "          'game_date_dow_4': np.sum,\n",
    "          'game_date_dow_5': np.sum,\n",
    "          'game_date_dow_6': np.sum,\n",
    "          'ticket_purchased': np.sum}\n",
    "\n",
    "column_names={'acct_id':'Num_customers', 'ticket_purchased': 'total_tickets'}\n",
    "    \n",
    "test2=test.groupby(['Segment']).agg(agg_dict).rename(columns=column_names)\n"
   ]
  },
  {
   "cell_type": "code",
   "execution_count": 437,
   "metadata": {},
   "outputs": [
    {
     "data": {
      "text/html": [
       "<div>\n",
       "<style scoped>\n",
       "    .dataframe tbody tr th:only-of-type {\n",
       "        vertical-align: middle;\n",
       "    }\n",
       "\n",
       "    .dataframe tbody tr th {\n",
       "        vertical-align: top;\n",
       "    }\n",
       "\n",
       "    .dataframe thead th {\n",
       "        text-align: right;\n",
       "    }\n",
       "</style>\n",
       "<table border=\"1\" class=\"dataframe\">\n",
       "  <thead>\n",
       "    <tr style=\"text-align: right;\">\n",
       "      <th></th>\n",
       "      <th>Num_customers</th>\n",
       "      <th>holiday</th>\n",
       "      <th>giveaway_item</th>\n",
       "      <th>event</th>\n",
       "      <th>purchase_on_winStreak</th>\n",
       "      <th>last_minute_buyer</th>\n",
       "      <th>30_day_buyer</th>\n",
       "      <th>section_500</th>\n",
       "      <th>section_200</th>\n",
       "      <th>section_100</th>\n",
       "      <th>...</th>\n",
       "      <th>series_nbr_bins_mid-end</th>\n",
       "      <th>series_nbr_bins_end</th>\n",
       "      <th>game_date_dow_0</th>\n",
       "      <th>game_date_dow_1</th>\n",
       "      <th>game_date_dow_2</th>\n",
       "      <th>game_date_dow_3</th>\n",
       "      <th>game_date_dow_4</th>\n",
       "      <th>game_date_dow_5</th>\n",
       "      <th>game_date_dow_6</th>\n",
       "      <th>total_tickets</th>\n",
       "    </tr>\n",
       "    <tr>\n",
       "      <th>Segment</th>\n",
       "      <th></th>\n",
       "      <th></th>\n",
       "      <th></th>\n",
       "      <th></th>\n",
       "      <th></th>\n",
       "      <th></th>\n",
       "      <th></th>\n",
       "      <th></th>\n",
       "      <th></th>\n",
       "      <th></th>\n",
       "      <th></th>\n",
       "      <th></th>\n",
       "      <th></th>\n",
       "      <th></th>\n",
       "      <th></th>\n",
       "      <th></th>\n",
       "      <th></th>\n",
       "      <th></th>\n",
       "      <th></th>\n",
       "      <th></th>\n",
       "      <th></th>\n",
       "    </tr>\n",
       "  </thead>\n",
       "  <tbody>\n",
       "    <tr>\n",
       "      <th>High-Value</th>\n",
       "      <td>44.0</td>\n",
       "      <td>1019</td>\n",
       "      <td>14600</td>\n",
       "      <td>12295</td>\n",
       "      <td>442</td>\n",
       "      <td>12897</td>\n",
       "      <td>16376</td>\n",
       "      <td>16596</td>\n",
       "      <td>2699</td>\n",
       "      <td>14125</td>\n",
       "      <td>...</td>\n",
       "      <td>9474.0</td>\n",
       "      <td>6522.0</td>\n",
       "      <td>1504.0</td>\n",
       "      <td>3779.0</td>\n",
       "      <td>2836.0</td>\n",
       "      <td>9765.0</td>\n",
       "      <td>5155.0</td>\n",
       "      <td>6112.0</td>\n",
       "      <td>4269.0</td>\n",
       "      <td>33420</td>\n",
       "    </tr>\n",
       "    <tr>\n",
       "      <th>Low-Value</th>\n",
       "      <td>219868.0</td>\n",
       "      <td>78071</td>\n",
       "      <td>239682</td>\n",
       "      <td>259839</td>\n",
       "      <td>41416</td>\n",
       "      <td>317916</td>\n",
       "      <td>428185</td>\n",
       "      <td>290279</td>\n",
       "      <td>129717</td>\n",
       "      <td>320642</td>\n",
       "      <td>...</td>\n",
       "      <td>160869.0</td>\n",
       "      <td>143128.0</td>\n",
       "      <td>43376.0</td>\n",
       "      <td>85524.0</td>\n",
       "      <td>84384.0</td>\n",
       "      <td>71754.0</td>\n",
       "      <td>126321.0</td>\n",
       "      <td>170727.0</td>\n",
       "      <td>158552.0</td>\n",
       "      <td>740638</td>\n",
       "    </tr>\n",
       "    <tr>\n",
       "      <th>Mid-Value</th>\n",
       "      <td>146845.0</td>\n",
       "      <td>81875</td>\n",
       "      <td>293152</td>\n",
       "      <td>333956</td>\n",
       "      <td>21292</td>\n",
       "      <td>392636</td>\n",
       "      <td>512916</td>\n",
       "      <td>310957</td>\n",
       "      <td>170606</td>\n",
       "      <td>405877</td>\n",
       "      <td>...</td>\n",
       "      <td>212239.0</td>\n",
       "      <td>119477.0</td>\n",
       "      <td>63894.0</td>\n",
       "      <td>92421.0</td>\n",
       "      <td>91115.0</td>\n",
       "      <td>94350.0</td>\n",
       "      <td>149529.0</td>\n",
       "      <td>214992.0</td>\n",
       "      <td>181139.0</td>\n",
       "      <td>887440</td>\n",
       "    </tr>\n",
       "  </tbody>\n",
       "</table>\n",
       "<p>3 rows × 26 columns</p>\n",
       "</div>"
      ],
      "text/plain": [
       "            Num_customers  holiday  giveaway_item   event  \\\n",
       "Segment                                                     \n",
       "High-Value           44.0     1019          14600   12295   \n",
       "Low-Value        219868.0    78071         239682  259839   \n",
       "Mid-Value        146845.0    81875         293152  333956   \n",
       "\n",
       "            purchase_on_winStreak  last_minute_buyer  30_day_buyer  \\\n",
       "Segment                                                              \n",
       "High-Value                    442              12897         16376   \n",
       "Low-Value                   41416             317916        428185   \n",
       "Mid-Value                   21292             392636        512916   \n",
       "\n",
       "            section_500  section_200  section_100  ...  \\\n",
       "Segment                                            ...   \n",
       "High-Value        16596         2699        14125  ...   \n",
       "Low-Value        290279       129717       320642  ...   \n",
       "Mid-Value        310957       170606       405877  ...   \n",
       "\n",
       "            series_nbr_bins_mid-end  series_nbr_bins_end  game_date_dow_0  \\\n",
       "Segment                                                                     \n",
       "High-Value                   9474.0               6522.0           1504.0   \n",
       "Low-Value                  160869.0             143128.0          43376.0   \n",
       "Mid-Value                  212239.0             119477.0          63894.0   \n",
       "\n",
       "            game_date_dow_1  game_date_dow_2  game_date_dow_3  \\\n",
       "Segment                                                         \n",
       "High-Value           3779.0           2836.0           9765.0   \n",
       "Low-Value           85524.0          84384.0          71754.0   \n",
       "Mid-Value           92421.0          91115.0          94350.0   \n",
       "\n",
       "            game_date_dow_4  game_date_dow_5  game_date_dow_6  total_tickets  \n",
       "Segment                                                                       \n",
       "High-Value           5155.0           6112.0           4269.0          33420  \n",
       "Low-Value          126321.0         170727.0         158552.0         740638  \n",
       "Mid-Value          149529.0         214992.0         181139.0         887440  \n",
       "\n",
       "[3 rows x 26 columns]"
      ]
     },
     "execution_count": 437,
     "metadata": {},
     "output_type": "execute_result"
    }
   ],
   "source": [
    "test2"
   ]
  },
  {
   "cell_type": "markdown",
   "metadata": {},
   "source": [
    "## Behavioral vs. RFM"
   ]
  },
  {
   "cell_type": "code",
   "execution_count": 438,
   "metadata": {},
   "outputs": [
    {
     "data": {
      "text/html": [
       "<div>\n",
       "<style scoped>\n",
       "    .dataframe tbody tr th:only-of-type {\n",
       "        vertical-align: middle;\n",
       "    }\n",
       "\n",
       "    .dataframe tbody tr th {\n",
       "        vertical-align: top;\n",
       "    }\n",
       "\n",
       "    .dataframe thead th {\n",
       "        text-align: right;\n",
       "    }\n",
       "</style>\n",
       "<table border=\"1\" class=\"dataframe\">\n",
       "  <thead>\n",
       "    <tr style=\"text-align: right;\">\n",
       "      <th></th>\n",
       "      <th>Num_customers</th>\n",
       "      <th>holiday</th>\n",
       "      <th>giveaway_item</th>\n",
       "      <th>event</th>\n",
       "      <th>purchase_on_winStreak</th>\n",
       "      <th>last_minute_buyer</th>\n",
       "      <th>30_day_buyer</th>\n",
       "      <th>section_500</th>\n",
       "      <th>section_200</th>\n",
       "      <th>section_100</th>\n",
       "      <th>...</th>\n",
       "      <th>series_nbr_bins_mid-end</th>\n",
       "      <th>series_nbr_bins_end</th>\n",
       "      <th>game_date_dow_0</th>\n",
       "      <th>game_date_dow_1</th>\n",
       "      <th>game_date_dow_2</th>\n",
       "      <th>game_date_dow_3</th>\n",
       "      <th>game_date_dow_4</th>\n",
       "      <th>game_date_dow_5</th>\n",
       "      <th>game_date_dow_6</th>\n",
       "      <th>total_tickets</th>\n",
       "    </tr>\n",
       "    <tr>\n",
       "      <th>Segment</th>\n",
       "      <th></th>\n",
       "      <th></th>\n",
       "      <th></th>\n",
       "      <th></th>\n",
       "      <th></th>\n",
       "      <th></th>\n",
       "      <th></th>\n",
       "      <th></th>\n",
       "      <th></th>\n",
       "      <th></th>\n",
       "      <th></th>\n",
       "      <th></th>\n",
       "      <th></th>\n",
       "      <th></th>\n",
       "      <th></th>\n",
       "      <th></th>\n",
       "      <th></th>\n",
       "      <th></th>\n",
       "      <th></th>\n",
       "      <th></th>\n",
       "      <th></th>\n",
       "    </tr>\n",
       "  </thead>\n",
       "  <tbody>\n",
       "    <tr>\n",
       "      <th>High-Value</th>\n",
       "      <td>44.0</td>\n",
       "      <td>3</td>\n",
       "      <td>44</td>\n",
       "      <td>37</td>\n",
       "      <td>1</td>\n",
       "      <td>39</td>\n",
       "      <td>49</td>\n",
       "      <td>50</td>\n",
       "      <td>8</td>\n",
       "      <td>42</td>\n",
       "      <td>...</td>\n",
       "      <td>28</td>\n",
       "      <td>20</td>\n",
       "      <td>5</td>\n",
       "      <td>11</td>\n",
       "      <td>8</td>\n",
       "      <td>29</td>\n",
       "      <td>15</td>\n",
       "      <td>18</td>\n",
       "      <td>13</td>\n",
       "      <td>33420</td>\n",
       "    </tr>\n",
       "    <tr>\n",
       "      <th>Low-Value</th>\n",
       "      <td>219868.0</td>\n",
       "      <td>11</td>\n",
       "      <td>32</td>\n",
       "      <td>35</td>\n",
       "      <td>6</td>\n",
       "      <td>43</td>\n",
       "      <td>58</td>\n",
       "      <td>39</td>\n",
       "      <td>18</td>\n",
       "      <td>43</td>\n",
       "      <td>...</td>\n",
       "      <td>22</td>\n",
       "      <td>19</td>\n",
       "      <td>6</td>\n",
       "      <td>12</td>\n",
       "      <td>11</td>\n",
       "      <td>10</td>\n",
       "      <td>17</td>\n",
       "      <td>23</td>\n",
       "      <td>21</td>\n",
       "      <td>740638</td>\n",
       "    </tr>\n",
       "    <tr>\n",
       "      <th>Mid-Value</th>\n",
       "      <td>146845.0</td>\n",
       "      <td>9</td>\n",
       "      <td>33</td>\n",
       "      <td>38</td>\n",
       "      <td>2</td>\n",
       "      <td>44</td>\n",
       "      <td>58</td>\n",
       "      <td>35</td>\n",
       "      <td>19</td>\n",
       "      <td>46</td>\n",
       "      <td>...</td>\n",
       "      <td>24</td>\n",
       "      <td>13</td>\n",
       "      <td>7</td>\n",
       "      <td>10</td>\n",
       "      <td>10</td>\n",
       "      <td>11</td>\n",
       "      <td>17</td>\n",
       "      <td>24</td>\n",
       "      <td>20</td>\n",
       "      <td>887440</td>\n",
       "    </tr>\n",
       "  </tbody>\n",
       "</table>\n",
       "<p>3 rows × 26 columns</p>\n",
       "</div>"
      ],
      "text/plain": [
       "            Num_customers  holiday  giveaway_item  event  \\\n",
       "Segment                                                    \n",
       "High-Value           44.0        3             44     37   \n",
       "Low-Value        219868.0       11             32     35   \n",
       "Mid-Value        146845.0        9             33     38   \n",
       "\n",
       "            purchase_on_winStreak  last_minute_buyer  30_day_buyer  \\\n",
       "Segment                                                              \n",
       "High-Value                      1                 39            49   \n",
       "Low-Value                       6                 43            58   \n",
       "Mid-Value                       2                 44            58   \n",
       "\n",
       "            section_500  section_200  section_100  ...  \\\n",
       "Segment                                            ...   \n",
       "High-Value           50            8           42  ...   \n",
       "Low-Value            39           18           43  ...   \n",
       "Mid-Value            35           19           46  ...   \n",
       "\n",
       "            series_nbr_bins_mid-end  series_nbr_bins_end  game_date_dow_0  \\\n",
       "Segment                                                                     \n",
       "High-Value                       28                   20                5   \n",
       "Low-Value                        22                   19                6   \n",
       "Mid-Value                        24                   13                7   \n",
       "\n",
       "            game_date_dow_1  game_date_dow_2  game_date_dow_3  \\\n",
       "Segment                                                         \n",
       "High-Value               11                8               29   \n",
       "Low-Value                12               11               10   \n",
       "Mid-Value                10               10               11   \n",
       "\n",
       "            game_date_dow_4  game_date_dow_5  game_date_dow_6  total_tickets  \n",
       "Segment                                                                       \n",
       "High-Value               15               18               13          33420  \n",
       "Low-Value                17               23               21         740638  \n",
       "Mid-Value                17               24               20         887440  \n",
       "\n",
       "[3 rows x 26 columns]"
      ]
     },
     "execution_count": 438,
     "metadata": {},
     "output_type": "execute_result"
    }
   ],
   "source": [
    "#make every feature a percent of ticket_purchased\n",
    "columns_to_adjust=test2.columns\n",
    "columns_to_adjust = [e for e in columns_to_adjust if e not in ('Num_customers', 'total_tickets')]\n",
    "columns_to_adjust\n",
    "\n",
    "for column in columns_to_adjust:\n",
    "    test2[column]=(test2[column]/test2['total_tickets']*100).round().astype(int)\n",
    "\n",
    "test2"
   ]
  },
  {
   "cell_type": "code",
   "execution_count": 439,
   "metadata": {},
   "outputs": [
    {
     "data": {
      "text/html": [
       "<div>\n",
       "<style scoped>\n",
       "    .dataframe tbody tr th:only-of-type {\n",
       "        vertical-align: middle;\n",
       "    }\n",
       "\n",
       "    .dataframe tbody tr th {\n",
       "        vertical-align: top;\n",
       "    }\n",
       "\n",
       "    .dataframe thead th {\n",
       "        text-align: right;\n",
       "    }\n",
       "</style>\n",
       "<table border=\"1\" class=\"dataframe\">\n",
       "  <thead>\n",
       "    <tr style=\"text-align: right;\">\n",
       "      <th></th>\n",
       "      <th>Num_customers</th>\n",
       "      <th>holiday</th>\n",
       "      <th>giveaway_item</th>\n",
       "      <th>event</th>\n",
       "      <th>purchase_on_winStreak</th>\n",
       "      <th>last_minute_buyer</th>\n",
       "      <th>30_day_buyer</th>\n",
       "      <th>section_500</th>\n",
       "      <th>section_200</th>\n",
       "      <th>section_100</th>\n",
       "      <th>...</th>\n",
       "      <th>series_nbr_bins_mid-end</th>\n",
       "      <th>series_nbr_bins_end</th>\n",
       "      <th>game_date_dow_0</th>\n",
       "      <th>game_date_dow_1</th>\n",
       "      <th>game_date_dow_2</th>\n",
       "      <th>game_date_dow_3</th>\n",
       "      <th>game_date_dow_4</th>\n",
       "      <th>game_date_dow_5</th>\n",
       "      <th>game_date_dow_6</th>\n",
       "      <th>total_tickets</th>\n",
       "    </tr>\n",
       "    <tr>\n",
       "      <th>Segment</th>\n",
       "      <th></th>\n",
       "      <th></th>\n",
       "      <th></th>\n",
       "      <th></th>\n",
       "      <th></th>\n",
       "      <th></th>\n",
       "      <th></th>\n",
       "      <th></th>\n",
       "      <th></th>\n",
       "      <th></th>\n",
       "      <th></th>\n",
       "      <th></th>\n",
       "      <th></th>\n",
       "      <th></th>\n",
       "      <th></th>\n",
       "      <th></th>\n",
       "      <th></th>\n",
       "      <th></th>\n",
       "      <th></th>\n",
       "      <th></th>\n",
       "      <th></th>\n",
       "    </tr>\n",
       "  </thead>\n",
       "  <tbody>\n",
       "    <tr>\n",
       "      <th>Low-Value</th>\n",
       "      <td>219868.0</td>\n",
       "      <td>11</td>\n",
       "      <td>32</td>\n",
       "      <td>35</td>\n",
       "      <td>6</td>\n",
       "      <td>43</td>\n",
       "      <td>58</td>\n",
       "      <td>39</td>\n",
       "      <td>18</td>\n",
       "      <td>43</td>\n",
       "      <td>...</td>\n",
       "      <td>22</td>\n",
       "      <td>19</td>\n",
       "      <td>6</td>\n",
       "      <td>12</td>\n",
       "      <td>11</td>\n",
       "      <td>10</td>\n",
       "      <td>17</td>\n",
       "      <td>23</td>\n",
       "      <td>21</td>\n",
       "      <td>740638</td>\n",
       "    </tr>\n",
       "    <tr>\n",
       "      <th>Mid-Value</th>\n",
       "      <td>146845.0</td>\n",
       "      <td>9</td>\n",
       "      <td>33</td>\n",
       "      <td>38</td>\n",
       "      <td>2</td>\n",
       "      <td>44</td>\n",
       "      <td>58</td>\n",
       "      <td>35</td>\n",
       "      <td>19</td>\n",
       "      <td>46</td>\n",
       "      <td>...</td>\n",
       "      <td>24</td>\n",
       "      <td>13</td>\n",
       "      <td>7</td>\n",
       "      <td>10</td>\n",
       "      <td>10</td>\n",
       "      <td>11</td>\n",
       "      <td>17</td>\n",
       "      <td>24</td>\n",
       "      <td>20</td>\n",
       "      <td>887440</td>\n",
       "    </tr>\n",
       "  </tbody>\n",
       "</table>\n",
       "<p>2 rows × 26 columns</p>\n",
       "</div>"
      ],
      "text/plain": [
       "           Num_customers  holiday  giveaway_item  event  \\\n",
       "Segment                                                   \n",
       "Low-Value       219868.0       11             32     35   \n",
       "Mid-Value       146845.0        9             33     38   \n",
       "\n",
       "           purchase_on_winStreak  last_minute_buyer  30_day_buyer  \\\n",
       "Segment                                                             \n",
       "Low-Value                      6                 43            58   \n",
       "Mid-Value                      2                 44            58   \n",
       "\n",
       "           section_500  section_200  section_100  ...  \\\n",
       "Segment                                           ...   \n",
       "Low-Value           39           18           43  ...   \n",
       "Mid-Value           35           19           46  ...   \n",
       "\n",
       "           series_nbr_bins_mid-end  series_nbr_bins_end  game_date_dow_0  \\\n",
       "Segment                                                                    \n",
       "Low-Value                       22                   19                6   \n",
       "Mid-Value                       24                   13                7   \n",
       "\n",
       "           game_date_dow_1  game_date_dow_2  game_date_dow_3  game_date_dow_4  \\\n",
       "Segment                                                                         \n",
       "Low-Value               12               11               10               17   \n",
       "Mid-Value               10               10               11               17   \n",
       "\n",
       "           game_date_dow_5  game_date_dow_6  total_tickets  \n",
       "Segment                                                     \n",
       "Low-Value               23               21         740638  \n",
       "Mid-Value               24               20         887440  \n",
       "\n",
       "[2 rows x 26 columns]"
      ]
     },
     "execution_count": 439,
     "metadata": {},
     "output_type": "execute_result"
    }
   ],
   "source": [
    "test2_woHigh=test2[test2.index!='High-Value']\n",
    "test2_woHigh.head()"
   ]
  },
  {
   "cell_type": "code",
   "execution_count": 440,
   "metadata": {},
   "outputs": [
    {
     "data": {
      "image/png": "[encoded data removed]",
      "text/plain": [
       "<Figure size 432x288 with 1 Axes>"
      ]
     },
     "metadata": {
      "needs_background": "light"
     },
     "output_type": "display_data"
    }
   ],
   "source": [
    "#Number of Customers by RFM Score\n",
    "plt.bar(test2_woHigh.index, test2_woHigh['Num_customers'])\n",
    "plt.show()"
   ]
  },
  {
   "cell_type": "code",
   "execution_count": 441,
   "metadata": {},
   "outputs": [
    {
     "data": {
      "image/png": "[encoded data removed]",
      "text/plain": [
       "<Figure size 432x288 with 1 Axes>"
      ]
     },
     "metadata": {
      "needs_background": "light"
     },
     "output_type": "display_data"
    }
   ],
   "source": [
    "labels = test2_woHigh.index\n",
    "y1 = test2_woHigh['holiday']\n",
    "y2 = test2_woHigh['giveaway_item']\n",
    "y3 = test2_woHigh['event']\n",
    "\n",
    "x = np.arange(len(labels))  # the label locations\n",
    "width = 0.25  # the width of the bars\n",
    "\n",
    "fig, ax = plt.subplots()\n",
    "rects1 = ax.bar(x - width, y1, width, label='holiday')\n",
    "rects2 = ax.bar(x , y2, width, label='giveaway_item')\n",
    "rects3 = ax.bar(x + width, y3, width, label='event')\n",
    "\n",
    "# Add some text for labels, title and custom x-axis tick labels, etc.\n",
    "ax.set_ylabel('Percent of Tickets Purchased')\n",
    "ax.set_xticks(x)\n",
    "ax.set_xticklabels(labels)\n",
    "ax.legend()\n",
    "\n",
    "fig.tight_layout()\n",
    "\n",
    "plt.show()"
   ]
  },
  {
   "cell_type": "code",
   "execution_count": 442,
   "metadata": {},
   "outputs": [
    {
     "data": {
      "image/png": "[encoded data removed]",
      "text/plain": [
       "<Figure size 432x288 with 1 Axes>"
      ]
     },
     "metadata": {
      "needs_background": "light"
     },
     "output_type": "display_data"
    }
   ],
   "source": [
    "labels = test2_woHigh.index\n",
    "y1 = test2_woHigh['purchase_on_winStreak']\n",
    "y2 = test2_woHigh['last_minute_buyer']\n",
    "y3 = test2_woHigh['30_day_buyer']\n",
    "\n",
    "x = np.arange(len(labels))  # the label locations\n",
    "width = 0.25  # the width of the bars\n",
    "\n",
    "fig, ax = plt.subplots()\n",
    "rects1 = ax.bar(x - width, y1, width, label='purchase_on_winStreak')\n",
    "rects2 = ax.bar(x , y2, width, label='14_day_buyer')\n",
    "rects3 = ax.bar(x +width, y3, width, label='30_day_buyer')\n",
    "\n",
    "# Add some text for labels, title and custom x-axis tick labels, etc.\n",
    "ax.set_ylabel('Percent of Tickets Purchased')\n",
    "ax.set_xticks(x)\n",
    "ax.set_xticklabels(labels)\n",
    "ax.legend()\n",
    "\n",
    "\n",
    "fig.tight_layout()\n",
    "\n",
    "plt.show()"
   ]
  },
  {
   "cell_type": "code",
   "execution_count": 443,
   "metadata": {},
   "outputs": [
    {
     "data": {
      "image/png": "[encoded data removed]",
      "text/plain": [
       "<Figure size 432x288 with 1 Axes>"
      ]
     },
     "metadata": {
      "needs_background": "light"
     },
     "output_type": "display_data"
    }
   ],
   "source": [
    "labels = test2_woHigh.index\n",
    "y1 = test2_woHigh['section_500']\n",
    "y2 = test2_woHigh['section_200']\n",
    "y3 = test2_woHigh['section_100']\n",
    "\n",
    "x = np.arange(len(labels))  # the label locations\n",
    "width = 0.25  # the width of the bars\n",
    "\n",
    "fig, ax = plt.subplots()\n",
    "rects1 = ax.bar(x - width, y1, width, label='section_500')\n",
    "rects2 = ax.bar(x , y2, width, label='section_200')\n",
    "rects3 = ax.bar(x + width, y3, width, label='section_100')\n",
    "\n",
    "# Add some text for labels, title and custom x-axis tick labels, etc.\n",
    "ax.set_ylabel('Average Number of Tickets Purchased')\n",
    "ax.set_xticks(x)\n",
    "ax.set_xticklabels(labels)\n",
    "ax.legend()\n",
    "fig.tight_layout()\n",
    "\n",
    "plt.show()"
   ]
  },
  {
   "cell_type": "code",
   "execution_count": 444,
   "metadata": {},
   "outputs": [
    {
     "data": {
      "image/png": "[encoded data removed]",
      "text/plain": [
       "<Figure size 432x288 with 1 Axes>"
      ]
     },
     "metadata": {
      "needs_background": "light"
     },
     "output_type": "display_data"
    }
   ],
   "source": [
    "labels = test2_woHigh.index\n",
    "y1 = test2_woHigh['day_night_code_D']\n",
    "y2 = test2_woHigh['day_night_code_A']\n",
    "y3 = test2_woHigh['day_night_code_E']\n",
    "\n",
    "x = np.arange(len(labels))  # the label locations\n",
    "width = 0.25  # the width of the bars\n",
    "\n",
    "fig, ax = plt.subplots()\n",
    "rects1 = ax.bar(x - width, y1, width, label='Day Game')\n",
    "rects2 = ax.bar(x , y2, width, label='Afternoon Game')\n",
    "rects3 = ax.bar(x + width, y3, width, label='Evening Game')\n",
    "\n",
    "# Add some text for labels, title and custom x-axis tick labels, etc.\n",
    "ax.set_ylabel('Percent of Tickets Purchased')\n",
    "ax.set_xticks(x)\n",
    "ax.set_xticklabels(labels)\n",
    "ax.legend()\n",
    "\n",
    "\n",
    "fig.tight_layout()\n",
    "\n",
    "plt.show()"
   ]
  },
  {
   "cell_type": "code",
   "execution_count": 445,
   "metadata": {},
   "outputs": [
    {
     "data": {
      "image/png": "[encoded data removed]",
      "text/plain": [
       "<Figure size 432x288 with 1 Axes>"
      ]
     },
     "metadata": {
      "needs_background": "light"
     },
     "output_type": "display_data"
    }
   ],
   "source": [
    "labels = test2_woHigh.index\n",
    "y1 = test2_woHigh['series_nbr_bins_beg']\n",
    "y2 = test2_woHigh['series_nbr_bins_beg-mid']\n",
    "y3 = test2_woHigh['series_nbr_bins_mid']\n",
    "y4 = test2_woHigh['series_nbr_bins_mid-end']\n",
    "y5 = test2_woHigh['series_nbr_bins_end']\n",
    "\n",
    "x = np.arange(len(labels))  # the label locations\n",
    "width = 0.15 # the width of the bars\n",
    "\n",
    "fig, ax = plt.subplots()\n",
    "rects1 = ax.bar(x - 2*width, y1, width, label='Beginning Season')\n",
    "rects2 = ax.bar(x - width, y2, width, label='Beginning-Middle Season')\n",
    "rects3 = ax.bar(x , y3, width, label='Middle Season')\n",
    "rects3 = ax.bar(x + width, y4, width, label='Middle-End Season')\n",
    "rects3 = ax.bar(x + 2*width, y5, width, label='End Season')\n",
    "\n",
    "# Add some text for labels, title and custom x-axis tick labels, etc.\n",
    "ax.set_ylabel('Percent of Tickets Purchased')\n",
    "ax.set_xticks(x)\n",
    "ax.set_xticklabels(labels)\n",
    "ax.legend()\n",
    "\n",
    "fig.tight_layout()\n",
    "\n",
    "plt.show()\n"
   ]
  },
  {
   "cell_type": "code",
   "execution_count": 446,
   "metadata": {},
   "outputs": [
    {
     "data": {
      "image/png": "[encoded data removed]",
      "text/plain": [
       "<Figure size 432x288 with 1 Axes>"
      ]
     },
     "metadata": {
      "needs_background": "light"
     },
     "output_type": "display_data"
    }
   ],
   "source": [
    "labels = test2_woHigh.index\n",
    "y0 = test2_woHigh['game_date_dow_0']\n",
    "y1 = test2_woHigh['game_date_dow_1']\n",
    "y2 = test2_woHigh['game_date_dow_2']\n",
    "y3 = test2_woHigh['game_date_dow_3']\n",
    "y4 = test2_woHigh['game_date_dow_4']\n",
    "y5 = test2_woHigh['game_date_dow_5']\n",
    "y6 = test2_woHigh['game_date_dow_6']\n",
    "\n",
    "x = np.arange(len(labels))  # the label locations\n",
    "width = 0.1 # the width of the bars\n",
    "\n",
    "fig, ax = plt.subplots()\n",
    "rects0 = ax.bar(x - 3*width, y0, width, label='Monday')\n",
    "rects1 = ax.bar(x - 2*width, y1, width, label='Tuesday')\n",
    "rects2 = ax.bar(x - width, y2, width, label='Wed')\n",
    "rects3 = ax.bar(x , y3, width, label='Thurs')\n",
    "rects4 = ax.bar(x + width, y4, width, label='Fri')\n",
    "rects5 = ax.bar(x + 2*width, y5, width, label='Sat')\n",
    "rects6 = ax.bar(x + 3*width, y6, width, label='Sun')\n",
    "\n",
    "# Add some text for labels, title and custom x-axis tick labels, etc.\n",
    "ax.set_ylabel('Percent of Tickets Purchased')\n",
    "ax.set_xticks(x)\n",
    "ax.set_xticklabels(labels)\n",
    "ax.legend()\n",
    "\n",
    "fig.tight_layout()\n",
    "\n",
    "plt.show()"
   ]
  },
  {
   "cell_type": "code",
   "execution_count": null,
   "metadata": {},
   "outputs": [],
   "source": []
  },
  {
   "cell_type": "code",
   "execution_count": null,
   "metadata": {},
   "outputs": [],
   "source": []
  }
 ],
 "metadata": {
  "kernelspec": {
   "display_name": "Python 3",
   "language": "python",
   "name": "python3"
  },
  "language_info": {
   "codemirror_mode": {
    "name": "ipython",
    "version": 3
   },
   "file_extension": ".py",
   "mimetype": "text/x-python",
   "name": "python",
   "nbconvert_exporter": "python",
   "pygments_lexer": "ipython3",
   "version": "3.6.8"
  }
 },
 "nbformat": 4,
 "nbformat_minor": 2
}
